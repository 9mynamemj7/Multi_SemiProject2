{
 "cells": [
  {
   "cell_type": "markdown",
   "id": "9e7136cb",
   "metadata": {
    "id": "9e7136cb"
   },
   "source": [
    "## 이미지 크롤링(파이리, 이브이)"
   ]
  },
  {
   "cell_type": "code",
   "execution_count": null,
   "id": "ce5d4fa8",
   "metadata": {
    "id": "ce5d4fa8"
   },
   "outputs": [],
   "source": [
    "#! pip install tqdm"
   ]
  },
  {
   "cell_type": "code",
   "execution_count": 4,
   "id": "321a16a8",
   "metadata": {
    "id": "321a16a8"
   },
   "outputs": [],
   "source": [
    "from selenium.webdriver import Chrome\n",
    "from bs4 import BeautifulSoup as bs\n",
    "from tqdm import tqdm\n",
    "import time\n",
    "import os, sys, warnings # 실행 중인지 아닌지를 확인하는 모듈"
   ]
  },
  {
   "cell_type": "code",
   "execution_count": 5,
   "id": "f7a49562",
   "metadata": {
    "id": "f7a49562"
   },
   "outputs": [],
   "source": [
    "from selenium.webdriver.common.by import By  # 제어를 위한 셀렉트 용 모듈\n",
    "from urllib import request   # 이미지 다운로드에 사용"
   ]
  },
  {
   "cell_type": "code",
   "execution_count": 26,
   "id": "94fe5715",
   "metadata": {
    "id": "94fe5715",
    "outputId": "ef3fd208-10cb-4564-db53-dcc2f6ef959e"
   },
   "outputs": [
    {
     "name": "stderr",
     "output_type": "stream",
     "text": [
      "C:\\Users\\sujin\\AppData\\Local\\Temp\\ipykernel_22636\\1256623951.py:1: DeprecationWarning: executable_path has been deprecated, please pass in a Service object\n",
      "  browser = Chrome('c:/pydata/chromedriver.exe')\n"
     ]
    },
    {
     "name": "stdout",
     "output_type": "stream",
     "text": [
      "검색어 입력 : 이브이\n",
      "스크롤 다운 횟수(6) : 6\n"
     ]
    }
   ],
   "source": [
    "browser = Chrome('c:/pydata/chromedriver.exe')\n",
    "time.sleep(1)\n",
    "\n",
    "#### 키워드 입력 및 URL 생성\n",
    "\n",
    "keyword = input('검색어 입력 : ')\n",
    "\n",
    "url = 'https://search.naver.com/search.naver?where=image&sm=tab_jum&query=' + keyword\n",
    "browser.get(url)\n",
    "\n",
    "#### 페이지 이동\n",
    "# 사용자가 요구한 스크롤 다운 횟수 확인 필요\n",
    "\n",
    "count_down = int(input('스크롤 다운 횟수(6) : '))\n",
    "\n",
    "if count_down > 6 :\n",
    "    count_down = 6\n",
    "\n",
    "# windows.scrollTo(0, Height)  :  스크롤을 아래쪽으로 이동\n",
    "# Height 대신 document.body.scrollHeight를 입력하면 페이지 끝으로 이동하는 것!\n",
    "for i in range(count_down):\n",
    "    browser.execute_script('window.scrollTo(0, document.body.scrollHeight)')\n",
    "    time.sleep(1)"
   ]
  },
  {
   "cell_type": "markdown",
   "id": "84a434ca",
   "metadata": {
    "id": "84a434ca"
   },
   "source": [
    "### 화면에서 이미지 추출하기\n",
    "1. 드라이브의 소스코드 받아오기\n",
    "2. 이미지가 있는 태그 찾기\n",
    "3. 태그에서 이미지 소스['src'] 받아오기\n",
    "4. src 주소를 이용해 이미지 다운로드 하기"
   ]
  },
  {
   "cell_type": "code",
   "execution_count": 27,
   "id": "40d21e0a",
   "metadata": {
    "id": "40d21e0a"
   },
   "outputs": [],
   "source": [
    "# 드라이브로 소스코드 가져오기\n",
    "html = browser.page_source\n",
    "soup = bs(html, 'html.parser')"
   ]
  },
  {
   "cell_type": "code",
   "execution_count": 28,
   "id": "61a22fb8",
   "metadata": {
    "id": "61a22fb8",
    "outputId": "8e9095a6-0009-45a7-9ab4-0f4ff0878893"
   },
   "outputs": [
    {
     "data": {
      "text/plain": [
       "'data:image/gif;base64,R0lGODlhAQABAIAAAAAAAP///yH5BAEAAAAALAAAAAABAAEAAAIBRAA7'"
      ]
     },
     "execution_count": 28,
     "metadata": {},
     "output_type": "execute_result"
    }
   ],
   "source": [
    "# 이미지 대표 태그 가져오기 (find_all -> 리스트)\n",
    "tag_img = soup.find_all('div', class_='thumb')\n",
    "tag_img[4].find('img')['src']"
   ]
  },
  {
   "cell_type": "code",
   "execution_count": 29,
   "id": "bf170d82",
   "metadata": {
    "id": "bf170d82",
    "outputId": "5712fd29-3319-4e73-fcd0-c62770b720be"
   },
   "outputs": [
    {
     "data": {
      "text/plain": [
       "<img alt=\"[포켓몬 정보] 이브이의 진화체\" class=\"_image _listImage\" data-lazy-src=\"https://search.pstatic.net/common/?src=http%3A%2F%2Fblogfiles.naver.net%2FMjAyMDExMTVfMTg2%2FMDAxNjA1NDQyNDE3NTk3.ruJs0gCZaoLrKaZLNZQF2mAIM8ndCzxp5gtW3U8NyiYg.z1my6OjzigVFZcRRV8RkQcCNGyiwgdAcmHrBde6tW2gg.JPEG.abcog02%2FCollageMaker%25A3%25DF20200725%25A3%25DF225806052.jpg&amp;type=l340_165\" data-org-height=\"165\" data-org-width=\"340\" src=\"data:image/gif;base64,R0lGODlhAQABAIAAAAAAAP///yH5BAEAAAAALAAAAAABAAEAAAIBRAA7\" style=\"height: 106px;\"/>"
      ]
     },
     "execution_count": 29,
     "metadata": {},
     "output_type": "execute_result"
    }
   ],
   "source": [
    "tag_img[4].find('img')"
   ]
  },
  {
   "cell_type": "code",
   "execution_count": 30,
   "id": "64483c10",
   "metadata": {
    "id": "64483c10",
    "outputId": "32b8c497-9560-4bbf-82c4-cfb0f4d04076"
   },
   "outputs": [
    {
     "data": {
      "text/plain": [
       "531"
      ]
     },
     "execution_count": 30,
     "metadata": {},
     "output_type": "execute_result"
    }
   ],
   "source": [
    "len(tag_img)"
   ]
  },
  {
   "cell_type": "code",
   "execution_count": 31,
   "id": "ebe6039e",
   "metadata": {
    "id": "ebe6039e",
    "outputId": "dc9c4e6a-e87c-4be9-f0f2-6df35d92b210"
   },
   "outputs": [
    {
     "name": "stdout",
     "output_type": "stream",
     "text": [
      "531\n"
     ]
    }
   ],
   "source": [
    "tag_src = []\n",
    "for tag in tag_img:\n",
    "    if tag.find('img')['src'].startswith('https://'):\n",
    "        tag_src.append(tag.find('img')['src'])\n",
    "    else:\n",
    "        tag_src.append(tag.find('img')['data-lazy-src'])\n",
    "    \n",
    "print(len(tag_src))\n",
    "\n",
    "browser.close()"
   ]
  },
  {
   "cell_type": "code",
   "execution_count": 32,
   "id": "710b98ef",
   "metadata": {
    "id": "710b98ef",
    "outputId": "1ea3e080-fa36-4407-8104-cd201ba1083d"
   },
   "outputs": [
    {
     "name": "stdout",
     "output_type": "stream",
     "text": [
      "https://search.pstatic.net/common/?src=http%3A%2F%2Fblogfiles.naver.net%2FMjAyMDExMTVfMTg2%2FMDAxNjA1NDQyNDE3NTk3.ruJs0gCZaoLrKaZLNZQF2mAIM8ndCzxp5gtW3U8NyiYg.z1my6OjzigVFZcRRV8RkQcCNGyiwgdAcmHrBde6tW2gg.JPEG.abcog02%2FCollageMaker%25A3%25DF20200725%25A3%25DF225806052.jpg&type=l340_165\n"
     ]
    }
   ],
   "source": [
    "print(tag_src[4])"
   ]
  },
  {
   "cell_type": "markdown",
   "id": "55c7882e",
   "metadata": {
    "id": "55c7882e"
   },
   "source": [
    "### 검색어를 이용해 폴더 생성 후 전체 이미지 저장\n",
    "- os.makedirs('디렉토리경로/생성 폴더명') -> 폴더 생성\n",
    "- 기존 폴더 존재시 기존 폴더 이름 뒤에 1, 2, ...와 같이 번호 붙여 생성\n",
    "- 해당 폴더에 저장, 없으면 생성 후 저장"
   ]
  },
  {
   "cell_type": "markdown",
   "id": "695bfc61",
   "metadata": {
    "id": "695bfc61"
   },
   "source": [
    "### 이미지를 저장 할 대표 폴더 생성[images]\n",
    "- imges 폴더에 검색 키워드를 이용해 폴더 생성 후 저장\n",
    "- 키워드와 동일한 폴더가 있는 경우 1씩 증가시키면서 저장"
   ]
  },
  {
   "cell_type": "markdown",
   "id": "4e09296a",
   "metadata": {
    "id": "4e09296a"
   },
   "source": [
    "- 이미지 저장 (저장 이미지 이름 뒤에 번호 붙이기)"
   ]
  },
  {
   "cell_type": "code",
   "execution_count": 33,
   "id": "1b278b94",
   "metadata": {
    "id": "1b278b94",
    "outputId": "35837328-0804-46a9-911c-6db05abda159"
   },
   "outputs": [
    {
     "name": "stderr",
     "output_type": "stream",
     "text": [
      "100%|████████████████████████████████████████████████████████████████████████████████| 531/531 [00:34<00:00, 15.58it/s]\n"
     ]
    }
   ],
   "source": [
    "i = 0\n",
    "fdir = 'c:/pydata/poketmon/이브이/'\n",
    "\n",
    "for link in tqdm(tag_src):          \n",
    "    request.urlretrieve(link, fdir +'이브이' +f'{i}.jpg')\n",
    "    i += 1"
   ]
  },
  {
   "cell_type": "markdown",
   "id": "6f785a40",
   "metadata": {
    "id": "6f785a40"
   },
   "source": [
    "# 구글 이미지 크롤링\n",
    "1. 스크롤 바를 이용해 검색한 기본 이미지 검색 키워드 폴더 생성 후 저장\n",
    "2. [추가 미션] 스크롤바 이동 후 더보기 버튼이 나오면 클릭 후 나타난 모든 이미지 저장 "
   ]
  },
  {
   "cell_type": "code",
   "execution_count": 34,
   "id": "aab9595f",
   "metadata": {
    "id": "aab9595f",
    "outputId": "34888e62-f68f-401a-f878-5952034cd0c3"
   },
   "outputs": [
    {
     "name": "stdout",
     "output_type": "stream",
     "text": [
      "키워드를 입력하세요: 이브이\n"
     ]
    },
    {
     "name": "stderr",
     "output_type": "stream",
     "text": [
      "C:\\Users\\sujin\\AppData\\Local\\Temp\\ipykernel_22636\\1720839674.py:4: DeprecationWarning: executable_path has been deprecated, please pass in a Service object\n",
      "  driver = Chrome('c:/pydata/chromedriver.exe')\n"
     ]
    },
    {
     "name": "stdout",
     "output_type": "stream",
     "text": [
      "스크롤 다운 횟수 입력(최대 4회) : 4\n"
     ]
    }
   ],
   "source": [
    "keyword = input('키워드를 입력하세요: ')\n",
    "url = 'https://www.google.com/search?q='+ keyword+'&aqs=chrome.0.69i59j46i20i263i433i512j0i131i395i433i512l3j46i131i199i395i424i433i465i466i512j46i131i395i433i512j46i131i395i408i410i424i433i512j0i395i433i512j0i395i512.1002j1j15&sourceid=chrome&ie=UTF-8'\n",
    "\n",
    "driver = Chrome('c:/pydata/chromedriver.exe')\n",
    "driver.get(url)\n",
    "\n",
    "# 이미지 버튼 클릭\n",
    "driver.find_element(By.XPATH, '//*[@id=\"hdtb-msb\"]/div[1]/div/div[2]/a').click()\n",
    "time.sleep(1)\n",
    "# 스크롤 내리기 (네 번?)\n",
    "\n",
    "count_down = int(input('스크롤 다운 횟수 입력(최대 4회) : '))\n",
    "\n",
    "if count_down > 4 :\n",
    "    count_down = 4\n",
    "\n",
    "# windows.scrollTo(0, Height)  :  스크롤을 아래쪽으로 이동\n",
    "# Height 대신 document.body.scrollHeight를 입력하면 페이지 끝으로 이동하는 것!\n",
    "for i in range(count_down):\n",
    "    driver.execute_script('window.scrollTo(0, document.body.scrollHeight)')\n",
    "    time.sleep(1)"
   ]
  },
  {
   "cell_type": "markdown",
   "id": "89720cd7",
   "metadata": {
    "id": "89720cd7"
   },
   "source": [
    "- 결과 더보기 버튼 클릭"
   ]
  },
  {
   "cell_type": "code",
   "execution_count": 36,
   "id": "08bb4d3f",
   "metadata": {
    "id": "08bb4d3f",
    "outputId": "7dbddc53-f060-4c78-cee9-72e810c11c8d"
   },
   "outputs": [
    {
     "name": "stdout",
     "output_type": "stream",
     "text": [
      "스크롤 다운 횟수 입력(파이리2,이브이1) : 1\n"
     ]
    }
   ],
   "source": [
    "# 결 더보기 버튼 클릭\n",
    "\n",
    "driver.find_element(By.XPATH, '//*[@id=\"islmp\"]/div/div/div/div[1]/div[2]/div[2]/input').click()\n",
    "time.sleep(1)\n",
    "\n",
    "count_down = int(input('스크롤 다운 횟수 입력(파이리2,이브이1) : '))\n",
    "\n",
    "if count_down > 4 :\n",
    "    count_down = 4\n",
    "\n",
    "for i in range(count_down):\n",
    "    driver.execute_script('window.scrollTo(0, document.body.scrollHeight)')\n",
    "    time.sleep(1)"
   ]
  },
  {
   "cell_type": "code",
   "execution_count": 38,
   "id": "15c482b0",
   "metadata": {
    "id": "15c482b0",
    "outputId": "7f9f61bb-7b75-44f0-afc5-86d84ffaff4b",
    "scrolled": true
   },
   "outputs": [],
   "source": [
    "html = driver.page_source\n",
    "soup = bs(html, 'html.parser')\n",
    "img_lst = soup.find_all('div', class_='isv-r PNCib MSM1fd BUooTd')"
   ]
  },
  {
   "cell_type": "code",
   "execution_count": 39,
   "id": "d1cb0345",
   "metadata": {
    "id": "d1cb0345",
    "outputId": "b50b6931-c4e6-4526-bc37-db758ea8bbb3",
    "scrolled": true
   },
   "outputs": [
    {
     "data": {
      "text/plain": [
       "594"
      ]
     },
     "execution_count": 39,
     "metadata": {},
     "output_type": "execute_result"
    }
   ],
   "source": [
    "len(img_lst)"
   ]
  },
  {
   "cell_type": "code",
   "execution_count": 40,
   "id": "567cc0e6",
   "metadata": {
    "id": "567cc0e6",
    "outputId": "bc637f2f-2827-4dee-d718-2511ca452d73"
   },
   "outputs": [
    {
     "name": "stderr",
     "output_type": "stream",
     "text": [
      "100%|████████████████████████████████████████████████████████████████████████████████| 594/594 [02:10<00:00,  4.54it/s]\n"
     ]
    }
   ],
   "source": [
    "i = 531\n",
    "\n",
    "for link in tqdm(img_lst):          \n",
    "    try :\n",
    "        request.urlretrieve(link.find('img')['src'], fdir + keyword +f'{i}.jpg')\n",
    "    except:\n",
    "        request.urlretrieve(link.find('img')['data-src'], fdir + keyword +f'{i}.jpg')\n",
    "    i += 1"
   ]
  }
 ],
 "metadata": {
  "colab": {
   "name": "1. 이미지 크롤링.ipynb",
   "provenance": []
  },
  "kernelspec": {
   "display_name": "Python 3 (ipykernel)",
   "language": "python",
   "name": "python3"
  },
  "language_info": {
   "codemirror_mode": {
    "name": "ipython",
    "version": 3
   },
   "file_extension": ".py",
   "mimetype": "text/x-python",
   "name": "python",
   "nbconvert_exporter": "python",
   "pygments_lexer": "ipython3",
   "version": "3.9.7"
  }
 },
 "nbformat": 4,
 "nbformat_minor": 5
}
