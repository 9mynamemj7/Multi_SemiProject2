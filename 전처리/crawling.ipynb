{
 "cells": [
  {
   "cell_type": "code",
   "execution_count": 13,
   "metadata": {},
   "outputs": [],
   "source": [
    "from selenium import webdriver\n",
    "from selenium.webdriver.common.keys import Keys\n",
    "from selenium.webdriver.common.by import By\n",
    "from urllib import request\n",
    "from tqdm import tqdm\n",
    "from bs4 import BeautifulSoup as bs\n",
    "import time, datetime, os\n",
    "\n",
    "# def doScrollDown(whileSeconds):\n",
    "#     driver = webdriver.Chrome(driver_path)\n",
    "#     start = datetime.datetime.now()\n",
    "#     end = start + datetime.timedelta(seconds=whileSeconds)\n",
    "#     while True:\n",
    "#         driver.execute_script('window.scrollTo(0, document.body.scrollHeight);')\n",
    "#         time.sleep(1)\n",
    "#         if datetime.datetime.now() > end:\n",
    "#             break\n",
    "\n",
    "def chrome_crawling(\n",
    "                    cnt=1,\n",
    "                    key_word=\"피카츄\",\n",
    "                    download_path=\"C:/pydata/\",\n",
    "                    driver_path=\"c:/pydata/chromedriver.exe\"):\n",
    "\n",
    "\n",
    "    def doScrollDown(whileSeconds):\n",
    "        start = datetime.datetime.now()\n",
    "        end = start + datetime.timedelta(seconds=whileSeconds)\n",
    "        while True:\n",
    "            driver.execute_script('window.scrollTo(0, document.body.scrollHeight);')\n",
    "            time.sleep(1)\n",
    "            if datetime.datetime.now() > end:\n",
    "                break\n",
    "\n",
    "    cnt = cnt\n",
    "    key_word = key_word\n",
    "    download_path = download_path\n",
    "    url = \"https://www.google.com/imghp?hl=ko\"\n",
    "    driver_path = driver_path\n",
    "    driver = webdriver.Chrome(driver_path)\n",
    "    driver.get(url)\n",
    "    time.sleep(1)\n",
    "    driver.find_element(By.XPATH, '//*[@id=\"sbtc\"]/div/div[2]/input').send_keys(key_word)\n",
    "    time.sleep(1)\n",
    "    driver.find_element(By.XPATH, '//*[@id=\"sbtc\"]/button').click()\n",
    "    time.sleep(2)\n",
    "\n",
    "    doScrollDown(7)\n",
    "    driver.find_element(By.XPATH, '//*[@id=\"islmp\"]/div/div/div/div[1]/div[2]/div[2]/input').click()\n",
    "    time.sleep(2)\n",
    "    doScrollDown(5)\n",
    "    driver.execute_script('window.scrollTo(0,0);')\n",
    "\n",
    "    html = driver.page_source\n",
    "    soup = bs(html, 'html.parser')\n",
    "    img_lst = soup.find_all('div', class_='isv-r PNCib MSM1fd BUooTd')\n",
    "\n",
    "    if not os.path.exists(download_path + key_word):\n",
    "        os.mkdir(download_path + key_word)\n",
    "\n",
    "    driver.find_element(By.XPATH, '//*[@id=\"islrg\"]/div[1]/div[1]/a[1]/div[1]/img').click()\n",
    "    print(f'총 크롤링 횟수: {len(img_lst)}')\n",
    "    for i in tqdm(range(len(img_lst))):\n",
    "        try :\n",
    "            img = driver.find_element(By.XPATH, '//*[@id=\"Sva75c\"]/div/div/div[3]/div[2]/c-wiz/div/div[1]/div[1]/div[3]/div/a/img')\n",
    "            img_url = img.get_attribute('src')\n",
    "            request.urlretrieve(img_url, download_path + key_word+'/' + key_word + str(cnt) +'.jpg')\n",
    "            cnt += 1\n",
    "            driver.find_element(By.XPATH, '//*[@id=\"Sva75c\"]/div/div/div[3]/div[2]/c-wiz/div/div[1]/div[1]/div[2]/a[3]').click()\n",
    "            time.sleep(2)\n",
    "        except Exception as e:\n",
    "            print(\"오류발생\")\n",
    "            print(e)\n",
    "            driver.find_element(By.XPATH, '//*[@id=\"Sva75c\"]/div/div/div[3]/div[2]/c-wiz/div/div[1]/div[1]/div[2]/a[3]').click()\n",
    "            time.sleep(2)\n",
    "    driver.close()\n",
    "    "
   ]
  },
  {
   "cell_type": "code",
   "execution_count": 17,
   "metadata": {},
   "outputs": [
    {
     "name": "stderr",
     "output_type": "stream",
     "text": [
      "C:\\Users\\Public\\Documents\\ESTsoft\\CreatorTemp\\ipykernel_8256\\945932241.py:40: DeprecationWarning: executable_path has been deprecated, please pass in a Service object\n",
      "  driver = webdriver.Chrome(driver_path)\n"
     ]
    },
    {
     "name": "stdout",
     "output_type": "stream",
     "text": [
      "총 크롤링 횟수: 652\n"
     ]
    },
    {
     "name": "stderr",
     "output_type": "stream",
     "text": [
      "  2%|▏         | 13/652 [00:30<24:33,  2.31s/it]"
     ]
    },
    {
     "name": "stdout",
     "output_type": "stream",
     "text": [
      "오류발생\n",
      "HTTP Error 403: Forbidden\n"
     ]
    },
    {
     "name": "stderr",
     "output_type": "stream",
     "text": [
      "  2%|▏         | 15/652 [00:35<24:15,  2.29s/it]"
     ]
    },
    {
     "name": "stdout",
     "output_type": "stream",
     "text": [
      "오류발생\n",
      "HTTP Error 403: Forbidden\n"
     ]
    },
    {
     "name": "stderr",
     "output_type": "stream",
     "text": [
      "  4%|▎         | 23/652 [00:53<24:38,  2.35s/it]"
     ]
    },
    {
     "name": "stdout",
     "output_type": "stream",
     "text": [
      "오류발생\n",
      "HTTP Error 403: Forbidden\n"
     ]
    },
    {
     "name": "stderr",
     "output_type": "stream",
     "text": [
      " 13%|█▎        | 84/652 [03:20<22:08,  2.34s/it]"
     ]
    },
    {
     "name": "stdout",
     "output_type": "stream",
     "text": [
      "오류발생\n",
      "HTTP Error 403: Forbidden\n"
     ]
    },
    {
     "name": "stderr",
     "output_type": "stream",
     "text": [
      " 18%|█▊        | 119/652 [04:44<21:25,  2.41s/it]"
     ]
    },
    {
     "name": "stdout",
     "output_type": "stream",
     "text": [
      "오류발생\n",
      "HTTP Error 403: Forbidden\n"
     ]
    },
    {
     "name": "stderr",
     "output_type": "stream",
     "text": [
      " 19%|█▉        | 127/652 [05:03<21:12,  2.42s/it]"
     ]
    },
    {
     "name": "stdout",
     "output_type": "stream",
     "text": [
      "오류발생\n",
      "HTTP Error 403: Forbidden\n"
     ]
    },
    {
     "name": "stderr",
     "output_type": "stream",
     "text": [
      " 20%|█▉        | 130/652 [05:10<20:32,  2.36s/it]"
     ]
    },
    {
     "name": "stdout",
     "output_type": "stream",
     "text": [
      "오류발생\n",
      "HTTP Error 403: Forbidden\n"
     ]
    },
    {
     "name": "stderr",
     "output_type": "stream",
     "text": [
      " 25%|██▌       | 164/652 [06:33<19:57,  2.45s/it]"
     ]
    },
    {
     "name": "stdout",
     "output_type": "stream",
     "text": [
      "오류발생\n",
      "HTTP Error 403: Forbidden\n"
     ]
    },
    {
     "name": "stderr",
     "output_type": "stream",
     "text": [
      " 27%|██▋       | 175/652 [07:00<18:55,  2.38s/it]"
     ]
    },
    {
     "name": "stdout",
     "output_type": "stream",
     "text": [
      "오류발생\n",
      "HTTP Error 403: Forbidden\n"
     ]
    },
    {
     "name": "stderr",
     "output_type": "stream",
     "text": [
      " 30%|███       | 198/652 [07:56<18:11,  2.40s/it]"
     ]
    },
    {
     "name": "stdout",
     "output_type": "stream",
     "text": [
      "오류발생\n",
      "HTTP Error 403: Forbidden\n"
     ]
    },
    {
     "name": "stderr",
     "output_type": "stream",
     "text": [
      " 34%|███▍      | 222/652 [08:55<17:27,  2.44s/it]"
     ]
    },
    {
     "name": "stdout",
     "output_type": "stream",
     "text": [
      "오류발생\n",
      "HTTP Error 403: Forbidden\n"
     ]
    },
    {
     "name": "stderr",
     "output_type": "stream",
     "text": [
      " 44%|████▍     | 287/652 [11:35<14:51,  2.44s/it]"
     ]
    },
    {
     "name": "stdout",
     "output_type": "stream",
     "text": [
      "오류발생\n",
      "HTTP Error 403: Forbidden\n"
     ]
    },
    {
     "name": "stderr",
     "output_type": "stream",
     "text": [
      " 48%|████▊     | 312/652 [12:40<14:19,  2.53s/it]"
     ]
    },
    {
     "name": "stdout",
     "output_type": "stream",
     "text": [
      "오류발생\n",
      "HTTP Error 403: Forbidden\n"
     ]
    },
    {
     "name": "stderr",
     "output_type": "stream",
     "text": [
      " 49%|████▉     | 321/652 [13:02<13:35,  2.46s/it]"
     ]
    },
    {
     "name": "stdout",
     "output_type": "stream",
     "text": [
      "오류발생\n",
      "HTTP Error 403: Forbidden\n"
     ]
    },
    {
     "name": "stderr",
     "output_type": "stream",
     "text": [
      " 59%|█████▉    | 384/652 [15:37<10:35,  2.37s/it]"
     ]
    },
    {
     "name": "stdout",
     "output_type": "stream",
     "text": [
      "오류발생\n",
      "HTTP Error 403: Forbidden\n"
     ]
    },
    {
     "name": "stderr",
     "output_type": "stream",
     "text": [
      " 60%|█████▉    | 389/652 [15:49<10:58,  2.50s/it]"
     ]
    },
    {
     "name": "stdout",
     "output_type": "stream",
     "text": [
      "오류발생\n",
      "HTTP Error 403: Forbidden\n"
     ]
    },
    {
     "name": "stderr",
     "output_type": "stream",
     "text": [
      "100%|██████████| 652/652 [26:41<00:00,  2.46s/it]\n"
     ]
    }
   ],
   "source": [
    "chrome_crawling(\n",
    "                cnt=1,\n",
    "                key_word=\"포켓몬스터_지우\",\n",
    "                download_path=\"C:/workspace/04.SecondProject/\",\n",
    "                driver_path=\"c:/pydata/chromedriver.exe\")"
   ]
  },
  {
   "cell_type": "code",
   "execution_count": null,
   "metadata": {},
   "outputs": [],
   "source": []
  }
 ],
 "metadata": {
  "interpreter": {
   "hash": "79235f3c426277640c9689d2572c47b913f40843195eeba115616b689febf123"
  },
  "kernelspec": {
   "display_name": "Python 3.9.7 ('kdig')",
   "language": "python",
   "name": "python3"
  },
  "language_info": {
   "codemirror_mode": {
    "name": "ipython",
    "version": 3
   },
   "file_extension": ".py",
   "mimetype": "text/x-python",
   "name": "python",
   "nbconvert_exporter": "python",
   "pygments_lexer": "ipython3",
   "version": "3.9.7"
  },
  "orig_nbformat": 4
 },
 "nbformat": 4,
 "nbformat_minor": 2
}
