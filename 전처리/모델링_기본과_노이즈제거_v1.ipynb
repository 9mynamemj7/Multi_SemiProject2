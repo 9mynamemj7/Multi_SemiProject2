{
  "nbformat": 4,
  "nbformat_minor": 0,
  "metadata": {
    "colab": {
      "name": "모델링_기본_노이즈제거_v1.ipynb",
      "provenance": [],
      "collapsed_sections": []
    },
    "kernelspec": {
      "name": "python3",
      "display_name": "Python 3"
    },
    "language_info": {
      "name": "python"
    },
    "accelerator": "GPU"
  },
  "cells": [
    {
      "cell_type": "markdown",
      "source": [
        "##### [참고자료]\n",
        "- https://github.com/lsjsj92/keras_basic/blob/master/7.%20predict_multi_img_with_CNN.ipynb\n"
      ],
      "metadata": {
        "id": "qI3q4HKq4lAU"
      }
    },
    {
      "cell_type": "code",
      "execution_count": 4,
      "metadata": {
        "id": "eIS5h6eOUkMV"
      },
      "outputs": [],
      "source": [
        "import numpy as np\n",
        "from tqdm import tqdm\n",
        "import tensorflow as tf\n",
        "from tensorflow.keras.utils import to_categorical\n",
        "import matplotlib.pyplot as plt\n",
        "import os, warnings, cv2\n",
        "seed = 2022\n",
        "tf.random.set_seed(seed)\n",
        "np.random.seed(seed)"
      ]
    },
    {
      "cell_type": "code",
      "source": [
        "from google.colab import drive\n",
        "drive.mount('/content/drive')"
      ],
      "metadata": {
        "colab": {
          "base_uri": "https://localhost:8080/"
        },
        "id": "YWRaAA4o-aTG",
        "outputId": "6067518a-6648-467b-a1ae-01bf868f4f16"
      },
      "execution_count": 5,
      "outputs": [
        {
          "output_type": "stream",
          "name": "stdout",
          "text": [
            "Mounted at /content/drive\n"
          ]
        }
      ]
    },
    {
      "cell_type": "code",
      "source": [
        "%cd /content/drive/MyDrive/세미(2) 프로젝트/2.데이터"
      ],
      "metadata": {
        "colab": {
          "base_uri": "https://localhost:8080/"
        },
        "id": "94dNz393-YuG",
        "outputId": "0d009636-c9a1-4a7b-cabc-d375cfefe251"
      },
      "execution_count": 8,
      "outputs": [
        {
          "output_type": "stream",
          "name": "stdout",
          "text": [
            "/content/drive/.shortcut-targets-by-id/1iZJ97_6lEv6dD796nV-fw4WzH5bf62Jz/세미(2) 프로젝트/2.데이터\n"
          ]
        }
      ]
    },
    {
      "cell_type": "code",
      "source": [
        "# 파일 이름 읽어오기 (레이블로 사용 가능)\n",
        "categories = os.listdir()[:8]\n",
        "print(categories)"
      ],
      "metadata": {
        "colab": {
          "base_uri": "https://localhost:8080/"
        },
        "id": "Ygu7De9R-mb3",
        "outputId": "a46d8d75-6028-43e9-9ea8-d1aa85d05633"
      },
      "execution_count": 9,
      "outputs": [
        {
          "output_type": "stream",
          "name": "stdout",
          "text": [
            "['isang', 'jammanbo', 'evee', 'pie', 'squirtle', 'pikachu', 'jiwoo', 'leeseul']\n"
          ]
        }
      ]
    },
    {
      "cell_type": "markdown",
      "source": [
        "\n",
        "\n",
        "---\n",
        "\n",
        "# 일반데이터"
      ],
      "metadata": {
        "id": "ne4jwEVpCx-d"
      }
    },
    {
      "cell_type": "markdown",
      "source": [
        "## 1.데이터 전처리\n",
        "- resize\n",
        "- morphologyEx  : 노이즈 제거"
      ],
      "metadata": {
        "id": "7q6RaFPSqEIi"
      }
    },
    {
      "cell_type": "code",
      "source": [
        "# 전역 변수부 \n",
        "categories = os.listdir()[:-1]\n",
        "X = []\n",
        "y = []\n",
        "err = []\n",
        "\n",
        "# 메인부\n",
        "for idx, name in enumerate(tqdm(categories)):\n",
        "\n",
        "    filepath = './'+ name + '/'\n",
        "    # 읽어들일 파일 경로 설정\n",
        "    for path in os.listdir(filepath):\n",
        "\n",
        "        img = cv2.imread(filepath + path)\n",
        "        try:\n",
        "            img = cv2.cvtColor(img, cv2.COLOR_BGR2RGB)\n",
        "            img = cv2.resize(img, dsize=(128, 128), interpolation= cv2.INTER_LINEAR)\n",
        "\n",
        "            # 노이즈 제거 - GaussianBlur (5, 5) 사용\n",
        "            \n",
        "            #blur = cv2.GaussianBlur(img, ksize = (5, 5), sigmaX = 0)\n",
        "            # 선 따기\n",
        "            #edged = cv2.Canny(blur, 200, 255)\n",
        "\n",
        "            X.append(img / 256) #.reshape(128, 128, 3)\n",
        "            y.append(idx)\n",
        "\n",
        "        except:\n",
        "            err.append(filepath + path)\n",
        "            continue\n",
        "\n",
        "X = np.array(X)\n",
        "y = to_categorical(np.array(y))     # 원핫인코딩 수행\n",
        "\n",
        "print('\\n에러:','None' if len(err) == 0 else err)"
      ],
      "metadata": {
        "id": "y_xc3W-Z0lUG",
        "colab": {
          "base_uri": "https://localhost:8080/"
        },
        "outputId": "0333c0eb-fc43-4cb3-ba8c-0e7834049cae"
      },
      "execution_count": 6,
      "outputs": [
        {
          "output_type": "stream",
          "name": "stderr",
          "text": [
            "100%|██████████| 8/8 [00:57<00:00,  7.14s/it]\n"
          ]
        },
        {
          "output_type": "stream",
          "name": "stdout",
          "text": [
            "\n",
            "에러: None\n"
          ]
        }
      ]
    },
    {
      "cell_type": "code",
      "source": [
        "print(y[0])\n",
        "print(type(y))"
      ],
      "metadata": {
        "colab": {
          "base_uri": "https://localhost:8080/"
        },
        "id": "KwTOFo2Ls30r",
        "outputId": "d2ba97f5-4a9a-4059-8f58-a230299c5964"
      },
      "execution_count": 7,
      "outputs": [
        {
          "output_type": "stream",
          "name": "stdout",
          "text": [
            "[1. 0. 0. 0. 0. 0. 0. 0.]\n",
            "<class 'numpy.ndarray'>\n"
          ]
        }
      ]
    },
    {
      "cell_type": "code",
      "source": [
        "X.shape, type(X[0]) "
      ],
      "metadata": {
        "colab": {
          "base_uri": "https://localhost:8080/"
        },
        "id": "ai44_nivXHvr",
        "outputId": "60cc86e3-c61d-482e-9f8f-4fab2d96c8f3"
      },
      "execution_count": 8,
      "outputs": [
        {
          "output_type": "execute_result",
          "data": {
            "text/plain": [
              "((4000, 128, 128, 3), numpy.ndarray)"
            ]
          },
          "metadata": {},
          "execution_count": 8
        }
      ]
    },
    {
      "cell_type": "markdown",
      "source": [
        "## 2.train/test split\n",
        "- train 데이터로 train/valid split 진행\n",
        "- train 데이터로 데이터 부풀리기 수행\n"
      ],
      "metadata": {
        "id": "U8xKDI8cqCYT"
      }
    },
    {
      "cell_type": "code",
      "source": [
        "from sklearn.model_selection import train_test_split\n",
        "\n",
        "X_train, X_test, y_train, y_test = train_test_split(\n",
        "    X, y, test_size = 0.2, stratify = y, random_state = seed\n",
        ")"
      ],
      "metadata": {
        "id": "NL92IyeCo2FZ"
      },
      "execution_count": 9,
      "outputs": []
    },
    {
      "cell_type": "code",
      "source": [
        "X_train, X_valid, Y_train, Y_valid = train_test_split(\n",
        "    X_train, y_train, stratify = y_train, test_size = 0.2, random_state = seed\n",
        ")"
      ],
      "metadata": {
        "id": "HKsBZeNHx-Z0"
      },
      "execution_count": 10,
      "outputs": []
    },
    {
      "cell_type": "code",
      "source": [
        "from tensorflow.keras.preprocessing.image import ImageDataGenerator\n",
        "\n",
        "datagen = ImageDataGenerator(\n",
        "    rotation_range=10,          # randomly rotate images in the range 15 degree\n",
        "    width_shift_range=0.1,      # randomly shift images horizontally \n",
        "    height_shift_range=0.1,     # randomly shift images vertically\n",
        "    shear_range=0.1,            # 도형의 기울기\n",
        "    zoom_range=[0.8,1.2],       # 0.8~1.2 배 크기로 임의로 확대/축소\n",
        "    horizontal_flip=True,       # randomly flip images\n",
        "    vertical_flip=False,        # randomly flip images\n",
        "    fill_mode='nearest'         # set mode for filling points outside the input boundaries\n",
        ")"
      ],
      "metadata": {
        "id": "j2Awqo2i_QIH"
      },
      "execution_count": 11,
      "outputs": []
    },
    {
      "cell_type": "code",
      "source": [
        "datagen.fit(X_train)"
      ],
      "metadata": {
        "id": "H5n1D_FDm4j_"
      },
      "execution_count": 12,
      "outputs": []
    },
    {
      "cell_type": "markdown",
      "source": [
        "## 3.모델 정의 및 설정"
      ],
      "metadata": {
        "id": "aHsjwgfQya4L"
      }
    },
    {
      "cell_type": "code",
      "source": [
        "from tensorflow.keras.layers import Dense, Embedding, Dropout, Flatten, Conv2D, MaxPooling2D\n",
        "from tensorflow.keras.models import Sequential, load_model\n",
        "from tensorflow.keras.callbacks import ModelCheckpoint, EarlyStopping\n",
        "from tensorflow.keras.optimizers import RMSprop, Adam"
      ],
      "metadata": {
        "id": "UMpWbU8nyoQd"
      },
      "execution_count": 13,
      "outputs": []
    },
    {
      "cell_type": "code",
      "source": [
        "model = Sequential([\n",
        "    Conv2D(32, (3, 3), input_shape = X_train.shape[1:], padding = 'same', activation = 'relu'),\n",
        "    MaxPooling2D((2, 2)),\n",
        "    Dropout(0.25),\n",
        "\n",
        "    Conv2D(64, (3, 3), padding = 'same', activation = 'relu'),\n",
        "    Conv2D(64, (3, 3), activation = 'relu'),\n",
        "    MaxPooling2D((2, 2)),\n",
        "    Dropout(0.25),\n",
        "\n",
        "    Flatten(),\n",
        "    Dense(256, activation='relu'),\n",
        "    Dropout(0.5),\n",
        "    Dense(len(categories), activation = 'softmax')\n",
        "])\n",
        "model.summary()"
      ],
      "metadata": {
        "colab": {
          "base_uri": "https://localhost:8080/"
        },
        "outputId": "ce94b29f-f867-4796-d18d-a1b352262580",
        "id": "JoxhjBxKufI-"
      },
      "execution_count": 14,
      "outputs": [
        {
          "output_type": "stream",
          "name": "stdout",
          "text": [
            "Model: \"sequential\"\n",
            "_________________________________________________________________\n",
            " Layer (type)                Output Shape              Param #   \n",
            "=================================================================\n",
            " conv2d (Conv2D)             (None, 128, 128, 32)      896       \n",
            "                                                                 \n",
            " max_pooling2d (MaxPooling2D  (None, 64, 64, 32)       0         \n",
            " )                                                               \n",
            "                                                                 \n",
            " dropout (Dropout)           (None, 64, 64, 32)        0         \n",
            "                                                                 \n",
            " conv2d_1 (Conv2D)           (None, 64, 64, 64)        18496     \n",
            "                                                                 \n",
            " conv2d_2 (Conv2D)           (None, 62, 62, 64)        36928     \n",
            "                                                                 \n",
            " max_pooling2d_1 (MaxPooling  (None, 31, 31, 64)       0         \n",
            " 2D)                                                             \n",
            "                                                                 \n",
            " dropout_1 (Dropout)         (None, 31, 31, 64)        0         \n",
            "                                                                 \n",
            " flatten (Flatten)           (None, 61504)             0         \n",
            "                                                                 \n",
            " dense (Dense)               (None, 256)               15745280  \n",
            "                                                                 \n",
            " dropout_2 (Dropout)         (None, 256)               0         \n",
            "                                                                 \n",
            " dense_1 (Dense)             (None, 8)                 2056      \n",
            "                                                                 \n",
            "=================================================================\n",
            "Total params: 15,803,656\n",
            "Trainable params: 15,803,656\n",
            "Non-trainable params: 0\n",
            "_________________________________________________________________\n"
          ]
        }
      ]
    },
    {
      "cell_type": "code",
      "source": [
        "os.listdir('./모델저장')"
      ],
      "metadata": {
        "colab": {
          "base_uri": "https://localhost:8080/"
        },
        "id": "bV9atXQl9JhM",
        "outputId": "4baf9873-447b-41dd-bb75-ccabbaecbea8"
      },
      "execution_count": 16,
      "outputs": [
        {
          "output_type": "execute_result",
          "data": {
            "text/plain": [
              "['poketmon_noise_adam1.h5']"
            ]
          },
          "metadata": {},
          "execution_count": 16
        }
      ]
    },
    {
      "cell_type": "code",
      "source": [
        "model.compile('adam', 'categorical_crossentropy', ['accuracy'])\n",
        "\n",
        "model_path = './모델저장/poketmon_adam.h5'\n",
        "mc1 = ModelCheckpoint(model_path, moniter = 'val_loss', verbose = 1, save_best_only = True)\n",
        "es1 = EarlyStopping(patience = 15)"
      ],
      "metadata": {
        "id": "ZGhwd2n2ufJF"
      },
      "execution_count": 17,
      "outputs": []
    },
    {
      "cell_type": "code",
      "source": [
        "hist1 = model.fit(\n",
        "    datagen.flow(X_train, Y_train, batch_size=32),\n",
        "    validation_data=(X_valid, Y_valid), epochs = 100, callbacks=[mc1, es1]\n",
        ")"
      ],
      "metadata": {
        "colab": {
          "base_uri": "https://localhost:8080/"
        },
        "outputId": "76968953-4a8f-4e98-af27-9951ec178c72",
        "id": "V-m8shhiufJF"
      },
      "execution_count": 18,
      "outputs": [
        {
          "output_type": "stream",
          "name": "stdout",
          "text": [
            "Epoch 1/100\n",
            "80/80 [==============================] - ETA: 0s - loss: 1.6001 - accuracy: 0.4418\n",
            "Epoch 1: val_loss improved from inf to 0.80102, saving model to ./모델저장/poketmon_adam.h5\n",
            "80/80 [==============================] - 22s 130ms/step - loss: 1.6001 - accuracy: 0.4418 - val_loss: 0.8010 - val_accuracy: 0.7297\n",
            "Epoch 2/100\n",
            "80/80 [==============================] - ETA: 0s - loss: 0.9281 - accuracy: 0.6859\n",
            "Epoch 2: val_loss improved from 0.80102 to 0.74763, saving model to ./모델저장/poketmon_adam.h5\n",
            "80/80 [==============================] - 10s 127ms/step - loss: 0.9281 - accuracy: 0.6859 - val_loss: 0.7476 - val_accuracy: 0.7688\n",
            "Epoch 3/100\n",
            "80/80 [==============================] - ETA: 0s - loss: 0.8237 - accuracy: 0.7258\n",
            "Epoch 3: val_loss improved from 0.74763 to 0.58117, saving model to ./모델저장/poketmon_adam.h5\n",
            "80/80 [==============================] - 11s 133ms/step - loss: 0.8237 - accuracy: 0.7258 - val_loss: 0.5812 - val_accuracy: 0.8188\n",
            "Epoch 4/100\n",
            "80/80 [==============================] - ETA: 0s - loss: 0.7219 - accuracy: 0.7621\n",
            "Epoch 4: val_loss improved from 0.58117 to 0.57831, saving model to ./모델저장/poketmon_adam.h5\n",
            "80/80 [==============================] - 11s 140ms/step - loss: 0.7219 - accuracy: 0.7621 - val_loss: 0.5783 - val_accuracy: 0.8109\n",
            "Epoch 5/100\n",
            "80/80 [==============================] - ETA: 0s - loss: 0.6237 - accuracy: 0.7863\n",
            "Epoch 5: val_loss improved from 0.57831 to 0.51166, saving model to ./모델저장/poketmon_adam.h5\n",
            "80/80 [==============================] - 10s 126ms/step - loss: 0.6237 - accuracy: 0.7863 - val_loss: 0.5117 - val_accuracy: 0.8406\n",
            "Epoch 6/100\n",
            "80/80 [==============================] - ETA: 0s - loss: 0.5757 - accuracy: 0.8113\n",
            "Epoch 6: val_loss improved from 0.51166 to 0.50029, saving model to ./모델저장/poketmon_adam.h5\n",
            "80/80 [==============================] - 10s 126ms/step - loss: 0.5757 - accuracy: 0.8113 - val_loss: 0.5003 - val_accuracy: 0.8344\n",
            "Epoch 7/100\n",
            "80/80 [==============================] - ETA: 0s - loss: 0.5705 - accuracy: 0.8148\n",
            "Epoch 7: val_loss improved from 0.50029 to 0.41379, saving model to ./모델저장/poketmon_adam.h5\n",
            "80/80 [==============================] - 12s 153ms/step - loss: 0.5705 - accuracy: 0.8148 - val_loss: 0.4138 - val_accuracy: 0.8609\n",
            "Epoch 8/100\n",
            "80/80 [==============================] - ETA: 0s - loss: 0.5341 - accuracy: 0.8254\n",
            "Epoch 8: val_loss did not improve from 0.41379\n",
            "80/80 [==============================] - 10s 120ms/step - loss: 0.5341 - accuracy: 0.8254 - val_loss: 0.4207 - val_accuracy: 0.8672\n",
            "Epoch 9/100\n",
            "80/80 [==============================] - ETA: 0s - loss: 0.4891 - accuracy: 0.8301\n",
            "Epoch 9: val_loss improved from 0.41379 to 0.36159, saving model to ./모델저장/poketmon_adam.h5\n",
            "80/80 [==============================] - 11s 137ms/step - loss: 0.4891 - accuracy: 0.8301 - val_loss: 0.3616 - val_accuracy: 0.8766\n",
            "Epoch 10/100\n",
            "80/80 [==============================] - ETA: 0s - loss: 0.4931 - accuracy: 0.8406\n",
            "Epoch 10: val_loss did not improve from 0.36159\n",
            "80/80 [==============================] - 9s 118ms/step - loss: 0.4931 - accuracy: 0.8406 - val_loss: 0.4040 - val_accuracy: 0.8797\n",
            "Epoch 11/100\n",
            "80/80 [==============================] - ETA: 0s - loss: 0.4677 - accuracy: 0.8480\n",
            "Epoch 11: val_loss improved from 0.36159 to 0.34044, saving model to ./모델저장/poketmon_adam.h5\n",
            "80/80 [==============================] - 11s 142ms/step - loss: 0.4677 - accuracy: 0.8480 - val_loss: 0.3404 - val_accuracy: 0.8938\n",
            "Epoch 12/100\n",
            "80/80 [==============================] - ETA: 0s - loss: 0.4639 - accuracy: 0.8477\n",
            "Epoch 12: val_loss did not improve from 0.34044\n",
            "80/80 [==============================] - 10s 120ms/step - loss: 0.4639 - accuracy: 0.8477 - val_loss: 0.3471 - val_accuracy: 0.8906\n",
            "Epoch 13/100\n",
            "80/80 [==============================] - ETA: 0s - loss: 0.4831 - accuracy: 0.8406\n",
            "Epoch 13: val_loss did not improve from 0.34044\n",
            "80/80 [==============================] - 10s 124ms/step - loss: 0.4831 - accuracy: 0.8406 - val_loss: 0.3440 - val_accuracy: 0.8891\n",
            "Epoch 14/100\n",
            "80/80 [==============================] - ETA: 0s - loss: 0.4280 - accuracy: 0.8590\n",
            "Epoch 14: val_loss improved from 0.34044 to 0.31035, saving model to ./모델저장/poketmon_adam.h5\n",
            "80/80 [==============================] - 12s 145ms/step - loss: 0.4280 - accuracy: 0.8590 - val_loss: 0.3104 - val_accuracy: 0.9000\n",
            "Epoch 15/100\n",
            "80/80 [==============================] - ETA: 0s - loss: 0.3939 - accuracy: 0.8676\n",
            "Epoch 15: val_loss improved from 0.31035 to 0.29869, saving model to ./모델저장/poketmon_adam.h5\n",
            "80/80 [==============================] - 10s 128ms/step - loss: 0.3939 - accuracy: 0.8676 - val_loss: 0.2987 - val_accuracy: 0.9094\n",
            "Epoch 16/100\n",
            "80/80 [==============================] - ETA: 0s - loss: 0.3809 - accuracy: 0.8699\n",
            "Epoch 16: val_loss did not improve from 0.29869\n",
            "80/80 [==============================] - 10s 119ms/step - loss: 0.3809 - accuracy: 0.8699 - val_loss: 0.3914 - val_accuracy: 0.8609\n",
            "Epoch 17/100\n",
            "80/80 [==============================] - ETA: 0s - loss: 0.3865 - accuracy: 0.8621\n",
            "Epoch 17: val_loss did not improve from 0.29869\n",
            "80/80 [==============================] - 13s 169ms/step - loss: 0.3865 - accuracy: 0.8621 - val_loss: 0.3615 - val_accuracy: 0.9016\n",
            "Epoch 18/100\n",
            "80/80 [==============================] - ETA: 0s - loss: 0.3861 - accuracy: 0.8645\n",
            "Epoch 18: val_loss improved from 0.29869 to 0.25822, saving model to ./모델저장/poketmon_adam.h5\n",
            "80/80 [==============================] - 12s 144ms/step - loss: 0.3861 - accuracy: 0.8645 - val_loss: 0.2582 - val_accuracy: 0.9125\n",
            "Epoch 19/100\n",
            "80/80 [==============================] - ETA: 0s - loss: 0.3543 - accuracy: 0.8801\n",
            "Epoch 19: val_loss did not improve from 0.25822\n",
            "80/80 [==============================] - 14s 171ms/step - loss: 0.3543 - accuracy: 0.8801 - val_loss: 0.3274 - val_accuracy: 0.9000\n",
            "Epoch 20/100\n",
            "80/80 [==============================] - ETA: 0s - loss: 0.3412 - accuracy: 0.8828\n",
            "Epoch 20: val_loss did not improve from 0.25822\n",
            "80/80 [==============================] - 10s 127ms/step - loss: 0.3412 - accuracy: 0.8828 - val_loss: 0.2771 - val_accuracy: 0.9078\n",
            "Epoch 21/100\n",
            "80/80 [==============================] - ETA: 0s - loss: 0.3250 - accuracy: 0.8930\n",
            "Epoch 21: val_loss did not improve from 0.25822\n",
            "80/80 [==============================] - 10s 124ms/step - loss: 0.3250 - accuracy: 0.8930 - val_loss: 0.2591 - val_accuracy: 0.9141\n",
            "Epoch 22/100\n",
            "80/80 [==============================] - ETA: 0s - loss: 0.3386 - accuracy: 0.8926\n",
            "Epoch 22: val_loss did not improve from 0.25822\n",
            "80/80 [==============================] - 9s 118ms/step - loss: 0.3386 - accuracy: 0.8926 - val_loss: 0.2584 - val_accuracy: 0.9234\n",
            "Epoch 23/100\n",
            "80/80 [==============================] - ETA: 0s - loss: 0.3370 - accuracy: 0.8813\n",
            "Epoch 23: val_loss did not improve from 0.25822\n",
            "80/80 [==============================] - 10s 120ms/step - loss: 0.3370 - accuracy: 0.8813 - val_loss: 0.4469 - val_accuracy: 0.8672\n",
            "Epoch 24/100\n",
            "80/80 [==============================] - ETA: 0s - loss: 0.3389 - accuracy: 0.8941\n",
            "Epoch 24: val_loss improved from 0.25822 to 0.25407, saving model to ./모델저장/poketmon_adam.h5\n",
            "80/80 [==============================] - 11s 136ms/step - loss: 0.3389 - accuracy: 0.8941 - val_loss: 0.2541 - val_accuracy: 0.9234\n",
            "Epoch 25/100\n",
            "80/80 [==============================] - ETA: 0s - loss: 0.3022 - accuracy: 0.8988\n",
            "Epoch 25: val_loss improved from 0.25407 to 0.21608, saving model to ./모델저장/poketmon_adam.h5\n",
            "80/80 [==============================] - 10s 126ms/step - loss: 0.3022 - accuracy: 0.8988 - val_loss: 0.2161 - val_accuracy: 0.9297\n",
            "Epoch 26/100\n",
            "80/80 [==============================] - ETA: 0s - loss: 0.3147 - accuracy: 0.8973\n",
            "Epoch 26: val_loss did not improve from 0.21608\n",
            "80/80 [==============================] - 10s 120ms/step - loss: 0.3147 - accuracy: 0.8973 - val_loss: 0.2356 - val_accuracy: 0.9297\n",
            "Epoch 27/100\n",
            "80/80 [==============================] - ETA: 0s - loss: 0.3041 - accuracy: 0.9074\n",
            "Epoch 27: val_loss did not improve from 0.21608\n",
            "80/80 [==============================] - 11s 138ms/step - loss: 0.3041 - accuracy: 0.9074 - val_loss: 0.2486 - val_accuracy: 0.9141\n",
            "Epoch 28/100\n",
            "80/80 [==============================] - ETA: 0s - loss: 0.2652 - accuracy: 0.9129\n",
            "Epoch 28: val_loss did not improve from 0.21608\n",
            "80/80 [==============================] - 9s 118ms/step - loss: 0.2652 - accuracy: 0.9129 - val_loss: 0.2603 - val_accuracy: 0.9266\n",
            "Epoch 29/100\n",
            "80/80 [==============================] - ETA: 0s - loss: 0.2866 - accuracy: 0.9090\n",
            "Epoch 29: val_loss did not improve from 0.21608\n",
            "80/80 [==============================] - 11s 137ms/step - loss: 0.2866 - accuracy: 0.9090 - val_loss: 0.3005 - val_accuracy: 0.9078\n",
            "Epoch 30/100\n",
            "80/80 [==============================] - ETA: 0s - loss: 0.2896 - accuracy: 0.9059\n",
            "Epoch 30: val_loss did not improve from 0.21608\n",
            "80/80 [==============================] - 10s 119ms/step - loss: 0.2896 - accuracy: 0.9059 - val_loss: 0.2627 - val_accuracy: 0.9094\n",
            "Epoch 31/100\n",
            "80/80 [==============================] - ETA: 0s - loss: 0.2500 - accuracy: 0.9184\n",
            "Epoch 31: val_loss did not improve from 0.21608\n",
            "80/80 [==============================] - 10s 124ms/step - loss: 0.2500 - accuracy: 0.9184 - val_loss: 0.2172 - val_accuracy: 0.9328\n",
            "Epoch 32/100\n",
            "80/80 [==============================] - ETA: 0s - loss: 0.2751 - accuracy: 0.9031\n",
            "Epoch 32: val_loss did not improve from 0.21608\n",
            "80/80 [==============================] - 10s 125ms/step - loss: 0.2751 - accuracy: 0.9031 - val_loss: 0.2841 - val_accuracy: 0.9078\n",
            "Epoch 33/100\n",
            "80/80 [==============================] - ETA: 0s - loss: 0.2662 - accuracy: 0.9141\n",
            "Epoch 33: val_loss did not improve from 0.21608\n",
            "80/80 [==============================] - 10s 120ms/step - loss: 0.2662 - accuracy: 0.9141 - val_loss: 0.2226 - val_accuracy: 0.9344\n",
            "Epoch 34/100\n",
            "80/80 [==============================] - ETA: 0s - loss: 0.2465 - accuracy: 0.9176\n",
            "Epoch 34: val_loss did not improve from 0.21608\n",
            "80/80 [==============================] - 10s 119ms/step - loss: 0.2465 - accuracy: 0.9176 - val_loss: 0.2316 - val_accuracy: 0.9344\n",
            "Epoch 35/100\n",
            "80/80 [==============================] - ETA: 0s - loss: 0.2531 - accuracy: 0.9160\n",
            "Epoch 35: val_loss improved from 0.21608 to 0.19456, saving model to ./모델저장/poketmon_adam.h5\n",
            "80/80 [==============================] - 11s 136ms/step - loss: 0.2531 - accuracy: 0.9160 - val_loss: 0.1946 - val_accuracy: 0.9281\n",
            "Epoch 36/100\n",
            "80/80 [==============================] - ETA: 0s - loss: 0.2146 - accuracy: 0.9211\n",
            "Epoch 36: val_loss did not improve from 0.19456\n",
            "80/80 [==============================] - 10s 121ms/step - loss: 0.2146 - accuracy: 0.9211 - val_loss: 0.2220 - val_accuracy: 0.9344\n",
            "Epoch 37/100\n",
            "80/80 [==============================] - ETA: 0s - loss: 0.2512 - accuracy: 0.9191\n",
            "Epoch 37: val_loss did not improve from 0.19456\n",
            "80/80 [==============================] - 10s 128ms/step - loss: 0.2512 - accuracy: 0.9191 - val_loss: 0.2707 - val_accuracy: 0.9187\n",
            "Epoch 38/100\n",
            "80/80 [==============================] - ETA: 0s - loss: 0.2553 - accuracy: 0.9105\n",
            "Epoch 38: val_loss did not improve from 0.19456\n",
            "80/80 [==============================] - 10s 121ms/step - loss: 0.2553 - accuracy: 0.9105 - val_loss: 0.2739 - val_accuracy: 0.9250\n",
            "Epoch 39/100\n",
            "80/80 [==============================] - ETA: 0s - loss: 0.2392 - accuracy: 0.9195\n",
            "Epoch 39: val_loss did not improve from 0.19456\n",
            "80/80 [==============================] - 10s 120ms/step - loss: 0.2392 - accuracy: 0.9195 - val_loss: 0.2180 - val_accuracy: 0.9438\n",
            "Epoch 40/100\n",
            "80/80 [==============================] - ETA: 0s - loss: 0.2300 - accuracy: 0.9254\n",
            "Epoch 40: val_loss did not improve from 0.19456\n",
            "80/80 [==============================] - 10s 119ms/step - loss: 0.2300 - accuracy: 0.9254 - val_loss: 0.4812 - val_accuracy: 0.8828\n",
            "Epoch 41/100\n",
            "80/80 [==============================] - ETA: 0s - loss: 0.2511 - accuracy: 0.9230\n",
            "Epoch 41: val_loss did not improve from 0.19456\n",
            "80/80 [==============================] - 10s 120ms/step - loss: 0.2511 - accuracy: 0.9230 - val_loss: 0.2348 - val_accuracy: 0.9203\n",
            "Epoch 42/100\n",
            "80/80 [==============================] - ETA: 0s - loss: 0.2075 - accuracy: 0.9336\n",
            "Epoch 42: val_loss did not improve from 0.19456\n",
            "80/80 [==============================] - 10s 120ms/step - loss: 0.2075 - accuracy: 0.9336 - val_loss: 0.2184 - val_accuracy: 0.9266\n",
            "Epoch 43/100\n",
            "80/80 [==============================] - ETA: 0s - loss: 0.2006 - accuracy: 0.9352\n",
            "Epoch 43: val_loss did not improve from 0.19456\n",
            "80/80 [==============================] - 10s 119ms/step - loss: 0.2006 - accuracy: 0.9352 - val_loss: 0.2538 - val_accuracy: 0.9250\n",
            "Epoch 44/100\n",
            "80/80 [==============================] - ETA: 0s - loss: 0.2279 - accuracy: 0.9242\n",
            "Epoch 44: val_loss did not improve from 0.19456\n",
            "80/80 [==============================] - 10s 119ms/step - loss: 0.2279 - accuracy: 0.9242 - val_loss: 0.2042 - val_accuracy: 0.9500\n",
            "Epoch 45/100\n",
            "80/80 [==============================] - ETA: 0s - loss: 0.2288 - accuracy: 0.9270\n",
            "Epoch 45: val_loss did not improve from 0.19456\n",
            "80/80 [==============================] - 10s 119ms/step - loss: 0.2288 - accuracy: 0.9270 - val_loss: 0.2119 - val_accuracy: 0.9406\n",
            "Epoch 46/100\n",
            "80/80 [==============================] - ETA: 0s - loss: 0.2139 - accuracy: 0.9297\n",
            "Epoch 46: val_loss did not improve from 0.19456\n",
            "80/80 [==============================] - 10s 119ms/step - loss: 0.2139 - accuracy: 0.9297 - val_loss: 0.2329 - val_accuracy: 0.9359\n",
            "Epoch 47/100\n",
            "80/80 [==============================] - ETA: 0s - loss: 0.2027 - accuracy: 0.9332\n",
            "Epoch 47: val_loss did not improve from 0.19456\n",
            "80/80 [==============================] - 10s 120ms/step - loss: 0.2027 - accuracy: 0.9332 - val_loss: 0.2109 - val_accuracy: 0.9391\n",
            "Epoch 48/100\n",
            "80/80 [==============================] - ETA: 0s - loss: 0.1929 - accuracy: 0.9316\n",
            "Epoch 48: val_loss did not improve from 0.19456\n",
            "80/80 [==============================] - 10s 119ms/step - loss: 0.1929 - accuracy: 0.9316 - val_loss: 0.2208 - val_accuracy: 0.9312\n",
            "Epoch 49/100\n",
            "80/80 [==============================] - ETA: 0s - loss: 0.1978 - accuracy: 0.9340\n",
            "Epoch 49: val_loss did not improve from 0.19456\n",
            "80/80 [==============================] - 12s 147ms/step - loss: 0.1978 - accuracy: 0.9340 - val_loss: 0.2157 - val_accuracy: 0.9469\n",
            "Epoch 50/100\n",
            "80/80 [==============================] - ETA: 0s - loss: 0.1784 - accuracy: 0.9410\n",
            "Epoch 50: val_loss improved from 0.19456 to 0.19232, saving model to ./모델저장/poketmon_adam.h5\n",
            "80/80 [==============================] - 25s 312ms/step - loss: 0.1784 - accuracy: 0.9410 - val_loss: 0.1923 - val_accuracy: 0.9531\n",
            "Epoch 51/100\n",
            "80/80 [==============================] - ETA: 0s - loss: 0.1889 - accuracy: 0.9391\n",
            "Epoch 51: val_loss did not improve from 0.19232\n",
            "80/80 [==============================] - 10s 120ms/step - loss: 0.1889 - accuracy: 0.9391 - val_loss: 0.2363 - val_accuracy: 0.9391\n",
            "Epoch 52/100\n",
            "80/80 [==============================] - ETA: 0s - loss: 0.1852 - accuracy: 0.9414\n",
            "Epoch 52: val_loss did not improve from 0.19232\n",
            "80/80 [==============================] - 12s 153ms/step - loss: 0.1852 - accuracy: 0.9414 - val_loss: 0.2714 - val_accuracy: 0.9359\n",
            "Epoch 53/100\n",
            "80/80 [==============================] - ETA: 0s - loss: 0.1674 - accuracy: 0.9453\n",
            "Epoch 53: val_loss did not improve from 0.19232\n",
            "80/80 [==============================] - 10s 125ms/step - loss: 0.1674 - accuracy: 0.9453 - val_loss: 0.1948 - val_accuracy: 0.9484\n",
            "Epoch 54/100\n",
            "80/80 [==============================] - ETA: 0s - loss: 0.1921 - accuracy: 0.9391\n",
            "Epoch 54: val_loss did not improve from 0.19232\n",
            "80/80 [==============================] - 10s 130ms/step - loss: 0.1921 - accuracy: 0.9391 - val_loss: 0.2337 - val_accuracy: 0.9281\n",
            "Epoch 55/100\n",
            "80/80 [==============================] - ETA: 0s - loss: 0.1722 - accuracy: 0.9387\n",
            "Epoch 55: val_loss improved from 0.19232 to 0.18058, saving model to ./모델저장/poketmon_adam.h5\n",
            "80/80 [==============================] - 13s 165ms/step - loss: 0.1722 - accuracy: 0.9387 - val_loss: 0.1806 - val_accuracy: 0.9484\n",
            "Epoch 56/100\n",
            "80/80 [==============================] - ETA: 0s - loss: 0.1723 - accuracy: 0.9473\n",
            "Epoch 56: val_loss did not improve from 0.18058\n",
            "80/80 [==============================] - 11s 138ms/step - loss: 0.1723 - accuracy: 0.9473 - val_loss: 0.2009 - val_accuracy: 0.9547\n",
            "Epoch 57/100\n",
            "80/80 [==============================] - ETA: 0s - loss: 0.1804 - accuracy: 0.9426\n",
            "Epoch 57: val_loss improved from 0.18058 to 0.16533, saving model to ./모델저장/poketmon_adam.h5\n",
            "80/80 [==============================] - 13s 167ms/step - loss: 0.1804 - accuracy: 0.9426 - val_loss: 0.1653 - val_accuracy: 0.9547\n",
            "Epoch 58/100\n",
            "80/80 [==============================] - ETA: 0s - loss: 0.1650 - accuracy: 0.9438\n",
            "Epoch 58: val_loss did not improve from 0.16533\n",
            "80/80 [==============================] - 11s 140ms/step - loss: 0.1650 - accuracy: 0.9438 - val_loss: 0.2857 - val_accuracy: 0.9203\n",
            "Epoch 59/100\n",
            "80/80 [==============================] - ETA: 0s - loss: 0.1526 - accuracy: 0.9516\n",
            "Epoch 59: val_loss did not improve from 0.16533\n",
            "80/80 [==============================] - 10s 129ms/step - loss: 0.1526 - accuracy: 0.9516 - val_loss: 0.2377 - val_accuracy: 0.9422\n",
            "Epoch 60/100\n",
            "80/80 [==============================] - ETA: 0s - loss: 0.1773 - accuracy: 0.9461\n",
            "Epoch 60: val_loss did not improve from 0.16533\n",
            "80/80 [==============================] - 10s 120ms/step - loss: 0.1773 - accuracy: 0.9461 - val_loss: 0.2477 - val_accuracy: 0.9391\n",
            "Epoch 61/100\n",
            "80/80 [==============================] - ETA: 0s - loss: 0.1757 - accuracy: 0.9434\n",
            "Epoch 61: val_loss did not improve from 0.16533\n",
            "80/80 [==============================] - 10s 120ms/step - loss: 0.1757 - accuracy: 0.9434 - val_loss: 0.1966 - val_accuracy: 0.9516\n",
            "Epoch 62/100\n",
            "80/80 [==============================] - ETA: 0s - loss: 0.1676 - accuracy: 0.9453\n",
            "Epoch 62: val_loss did not improve from 0.16533\n",
            "80/80 [==============================] - 10s 120ms/step - loss: 0.1676 - accuracy: 0.9453 - val_loss: 0.2069 - val_accuracy: 0.9438\n",
            "Epoch 63/100\n",
            "80/80 [==============================] - ETA: 0s - loss: 0.1473 - accuracy: 0.9496\n",
            "Epoch 63: val_loss did not improve from 0.16533\n",
            "80/80 [==============================] - 10s 120ms/step - loss: 0.1473 - accuracy: 0.9496 - val_loss: 0.2326 - val_accuracy: 0.9328\n",
            "Epoch 64/100\n",
            "80/80 [==============================] - ETA: 0s - loss: 0.1771 - accuracy: 0.9375\n",
            "Epoch 64: val_loss did not improve from 0.16533\n",
            "80/80 [==============================] - 12s 153ms/step - loss: 0.1771 - accuracy: 0.9375 - val_loss: 0.1848 - val_accuracy: 0.9453\n",
            "Epoch 65/100\n",
            "80/80 [==============================] - ETA: 0s - loss: 0.1698 - accuracy: 0.9434\n",
            "Epoch 65: val_loss did not improve from 0.16533\n",
            "80/80 [==============================] - 10s 121ms/step - loss: 0.1698 - accuracy: 0.9434 - val_loss: 0.2715 - val_accuracy: 0.9281\n",
            "Epoch 66/100\n",
            "80/80 [==============================] - ETA: 0s - loss: 0.1703 - accuracy: 0.9512\n",
            "Epoch 66: val_loss did not improve from 0.16533\n",
            "80/80 [==============================] - 9s 119ms/step - loss: 0.1703 - accuracy: 0.9512 - val_loss: 0.1849 - val_accuracy: 0.9453\n",
            "Epoch 67/100\n",
            "80/80 [==============================] - ETA: 0s - loss: 0.1502 - accuracy: 0.9563\n",
            "Epoch 67: val_loss did not improve from 0.16533\n",
            "80/80 [==============================] - 10s 119ms/step - loss: 0.1502 - accuracy: 0.9563 - val_loss: 0.1860 - val_accuracy: 0.9547\n",
            "Epoch 68/100\n",
            "80/80 [==============================] - ETA: 0s - loss: 0.1356 - accuracy: 0.9559\n",
            "Epoch 68: val_loss improved from 0.16533 to 0.14923, saving model to ./모델저장/poketmon_adam.h5\n",
            "80/80 [==============================] - 11s 136ms/step - loss: 0.1356 - accuracy: 0.9559 - val_loss: 0.1492 - val_accuracy: 0.9547\n",
            "Epoch 69/100\n",
            "80/80 [==============================] - ETA: 0s - loss: 0.1549 - accuracy: 0.9496\n",
            "Epoch 69: val_loss did not improve from 0.14923\n",
            "80/80 [==============================] - 10s 127ms/step - loss: 0.1549 - accuracy: 0.9496 - val_loss: 0.2456 - val_accuracy: 0.9328\n",
            "Epoch 70/100\n",
            "80/80 [==============================] - ETA: 0s - loss: 0.1372 - accuracy: 0.9563\n",
            "Epoch 70: val_loss did not improve from 0.14923\n",
            "80/80 [==============================] - 10s 119ms/step - loss: 0.1372 - accuracy: 0.9563 - val_loss: 0.2119 - val_accuracy: 0.9344\n",
            "Epoch 71/100\n",
            "80/80 [==============================] - ETA: 0s - loss: 0.1575 - accuracy: 0.9508\n",
            "Epoch 71: val_loss did not improve from 0.14923\n",
            "80/80 [==============================] - 10s 120ms/step - loss: 0.1575 - accuracy: 0.9508 - val_loss: 0.1768 - val_accuracy: 0.9438\n",
            "Epoch 72/100\n",
            "80/80 [==============================] - ETA: 0s - loss: 0.1714 - accuracy: 0.9500\n",
            "Epoch 72: val_loss did not improve from 0.14923\n",
            "80/80 [==============================] - 10s 125ms/step - loss: 0.1714 - accuracy: 0.9500 - val_loss: 0.2081 - val_accuracy: 0.9344\n",
            "Epoch 73/100\n",
            "80/80 [==============================] - ETA: 0s - loss: 0.1419 - accuracy: 0.9539\n",
            "Epoch 73: val_loss did not improve from 0.14923\n",
            "80/80 [==============================] - 10s 130ms/step - loss: 0.1419 - accuracy: 0.9539 - val_loss: 0.1717 - val_accuracy: 0.9563\n",
            "Epoch 74/100\n",
            "80/80 [==============================] - ETA: 0s - loss: 0.1167 - accuracy: 0.9598\n",
            "Epoch 74: val_loss did not improve from 0.14923\n",
            "80/80 [==============================] - 10s 124ms/step - loss: 0.1167 - accuracy: 0.9598 - val_loss: 0.2321 - val_accuracy: 0.9453\n",
            "Epoch 75/100\n",
            "80/80 [==============================] - ETA: 0s - loss: 0.1279 - accuracy: 0.9598\n",
            "Epoch 75: val_loss did not improve from 0.14923\n",
            "80/80 [==============================] - 10s 120ms/step - loss: 0.1279 - accuracy: 0.9598 - val_loss: 0.1894 - val_accuracy: 0.9484\n",
            "Epoch 76/100\n",
            "80/80 [==============================] - ETA: 0s - loss: 0.1146 - accuracy: 0.9598\n",
            "Epoch 76: val_loss did not improve from 0.14923\n",
            "80/80 [==============================] - 10s 121ms/step - loss: 0.1146 - accuracy: 0.9598 - val_loss: 0.2463 - val_accuracy: 0.9219\n",
            "Epoch 77/100\n",
            "80/80 [==============================] - ETA: 0s - loss: 0.1423 - accuracy: 0.9504\n",
            "Epoch 77: val_loss did not improve from 0.14923\n",
            "80/80 [==============================] - 10s 128ms/step - loss: 0.1423 - accuracy: 0.9504 - val_loss: 0.2178 - val_accuracy: 0.9359\n",
            "Epoch 78/100\n",
            "80/80 [==============================] - ETA: 0s - loss: 0.1212 - accuracy: 0.9586\n",
            "Epoch 78: val_loss did not improve from 0.14923\n",
            "80/80 [==============================] - 10s 119ms/step - loss: 0.1212 - accuracy: 0.9586 - val_loss: 0.1916 - val_accuracy: 0.9453\n",
            "Epoch 79/100\n",
            "80/80 [==============================] - ETA: 0s - loss: 0.1439 - accuracy: 0.9531\n",
            "Epoch 79: val_loss did not improve from 0.14923\n",
            "80/80 [==============================] - 10s 121ms/step - loss: 0.1439 - accuracy: 0.9531 - val_loss: 0.2211 - val_accuracy: 0.9359\n",
            "Epoch 80/100\n",
            "80/80 [==============================] - ETA: 0s - loss: 0.1035 - accuracy: 0.9660\n",
            "Epoch 80: val_loss did not improve from 0.14923\n",
            "80/80 [==============================] - 10s 120ms/step - loss: 0.1035 - accuracy: 0.9660 - val_loss: 0.2046 - val_accuracy: 0.9438\n",
            "Epoch 81/100\n",
            "80/80 [==============================] - ETA: 0s - loss: 0.1094 - accuracy: 0.9641\n",
            "Epoch 81: val_loss did not improve from 0.14923\n",
            "80/80 [==============================] - 10s 120ms/step - loss: 0.1094 - accuracy: 0.9641 - val_loss: 0.2500 - val_accuracy: 0.9297\n",
            "Epoch 82/100\n",
            "80/80 [==============================] - ETA: 0s - loss: 0.1523 - accuracy: 0.9531\n",
            "Epoch 82: val_loss did not improve from 0.14923\n",
            "80/80 [==============================] - 10s 121ms/step - loss: 0.1523 - accuracy: 0.9531 - val_loss: 0.2121 - val_accuracy: 0.9422\n",
            "Epoch 83/100\n",
            "80/80 [==============================] - ETA: 0s - loss: 0.1133 - accuracy: 0.9609\n",
            "Epoch 83: val_loss did not improve from 0.14923\n",
            "80/80 [==============================] - 10s 120ms/step - loss: 0.1133 - accuracy: 0.9609 - val_loss: 0.2237 - val_accuracy: 0.9516\n"
          ]
        }
      ]
    },
    {
      "cell_type": "code",
      "source": [
        "xy = (X_train, X_valid, X_test, Y_train, Y_valid, y_test)\n",
        "\n",
        "np.save(\"./모델저장/train_valid_test_xy.npy\", xy)\n",
        "\n",
        "# 읽어들일 때는 사용\n",
        "# X_train, X_test, Y_train, Y_test = np.load('./obj.npy')"
      ],
      "metadata": {
        "colab": {
          "base_uri": "https://localhost:8080/"
        },
        "id": "ZLnyVo9K_wb_",
        "outputId": "aa8db137-847d-4243-bc38-b4c24ff370b4"
      },
      "execution_count": 19,
      "outputs": [
        {
          "output_type": "stream",
          "name": "stderr",
          "text": [
            "/usr/local/lib/python3.7/dist-packages/numpy/lib/npyio.py:528: VisibleDeprecationWarning: Creating an ndarray from ragged nested sequences (which is a list-or-tuple of lists-or-tuples-or ndarrays with different lengths or shapes) is deprecated. If you meant to do this, you must specify 'dtype=object' when creating the ndarray.\n",
            "  arr = np.asanyarray(arr)\n"
          ]
        }
      ]
    },
    {
      "cell_type": "code",
      "source": [
        "best_model = load_model(model_path)\n",
        "best_model.evaluate(X_test, y_test)"
      ],
      "metadata": {
        "colab": {
          "base_uri": "https://localhost:8080/"
        },
        "id": "KDo7uFTeuWj1",
        "outputId": "c55c85cb-03bc-4c59-9317-dc3882eaa8cc"
      },
      "execution_count": 20,
      "outputs": [
        {
          "output_type": "stream",
          "name": "stdout",
          "text": [
            "25/25 [==============================] - 0s 12ms/step - loss: 0.1852 - accuracy: 0.9488\n"
          ]
        },
        {
          "output_type": "execute_result",
          "data": {
            "text/plain": [
              "[0.18516287207603455, 0.9487500190734863]"
            ]
          },
          "metadata": {},
          "execution_count": 20
        }
      ]
    },
    {
      "cell_type": "code",
      "source": [
        "y_acc = hist1.history['accuracy']\n",
        "y_vloss = hist1.history['val_loss']\n",
        "xs = np.arange(1, len(y_acc) + 1)\n",
        "\n",
        "plt.figure(figsize = (10, 7))\n",
        "plt.plot(xs, y_acc, label = 'accuracy')\n",
        "plt.plot(xs, y_vloss, label = 'validation_loss')\n",
        "plt.xlabel('Epoch')\n",
        "plt.title('Poketmon_adam_no_noise')\n",
        "plt.legend()\n",
        "plt.grid(linestyle = ':')\n",
        "\n",
        "plt.show()"
      ],
      "metadata": {
        "colab": {
          "base_uri": "https://localhost:8080/",
          "height": 248
        },
        "id": "VFbVr_pl-jvY",
        "outputId": "f94df692-a7ba-4d5d-a984-bb2fd7c9de2b"
      },
      "execution_count": 2,
      "outputs": [
        {
          "output_type": "error",
          "ename": "NameError",
          "evalue": "ignored",
          "traceback": [
            "\u001b[0;31m---------------------------------------------------------------------------\u001b[0m",
            "\u001b[0;31mNameError\u001b[0m                                 Traceback (most recent call last)",
            "\u001b[0;32m<ipython-input-2-cd0b1aa68501>\u001b[0m in \u001b[0;36m<module>\u001b[0;34m()\u001b[0m\n\u001b[0;32m----> 1\u001b[0;31m \u001b[0my_acc\u001b[0m \u001b[0;34m=\u001b[0m \u001b[0mhist1\u001b[0m\u001b[0;34m.\u001b[0m\u001b[0mhistory\u001b[0m\u001b[0;34m[\u001b[0m\u001b[0;34m'accuracy'\u001b[0m\u001b[0;34m]\u001b[0m\u001b[0;34m\u001b[0m\u001b[0;34m\u001b[0m\u001b[0m\n\u001b[0m\u001b[1;32m      2\u001b[0m \u001b[0my_vloss\u001b[0m \u001b[0;34m=\u001b[0m \u001b[0mhist1\u001b[0m\u001b[0;34m.\u001b[0m\u001b[0mhistory\u001b[0m\u001b[0;34m[\u001b[0m\u001b[0;34m'val_loss'\u001b[0m\u001b[0;34m]\u001b[0m\u001b[0;34m\u001b[0m\u001b[0;34m\u001b[0m\u001b[0m\n\u001b[1;32m      3\u001b[0m \u001b[0mxs\u001b[0m \u001b[0;34m=\u001b[0m \u001b[0mnp\u001b[0m\u001b[0;34m.\u001b[0m\u001b[0marange\u001b[0m\u001b[0;34m(\u001b[0m\u001b[0;36m1\u001b[0m\u001b[0;34m,\u001b[0m \u001b[0mlen\u001b[0m\u001b[0;34m(\u001b[0m\u001b[0my_acc\u001b[0m\u001b[0;34m)\u001b[0m \u001b[0;34m+\u001b[0m \u001b[0;36m1\u001b[0m\u001b[0;34m)\u001b[0m\u001b[0;34m\u001b[0m\u001b[0;34m\u001b[0m\u001b[0m\n\u001b[1;32m      4\u001b[0m \u001b[0;34m\u001b[0m\u001b[0m\n\u001b[1;32m      5\u001b[0m \u001b[0mplt\u001b[0m\u001b[0;34m.\u001b[0m\u001b[0mfigure\u001b[0m\u001b[0;34m(\u001b[0m\u001b[0mfigsize\u001b[0m \u001b[0;34m=\u001b[0m \u001b[0;34m(\u001b[0m\u001b[0;36m10\u001b[0m\u001b[0;34m,\u001b[0m \u001b[0;36m7\u001b[0m\u001b[0;34m)\u001b[0m\u001b[0;34m)\u001b[0m\u001b[0;34m\u001b[0m\u001b[0;34m\u001b[0m\u001b[0m\n",
            "\u001b[0;31mNameError\u001b[0m: name 'hist1' is not defined"
          ]
        }
      ]
    },
    {
      "cell_type": "code",
      "source": [
        ""
      ],
      "metadata": {
        "id": "PNP1sBAHCbMa"
      },
      "execution_count": null,
      "outputs": []
    },
    {
      "cell_type": "markdown",
      "source": [
        "\n",
        "\n",
        "---\n",
        "\n",
        "# 노이즈 제거 데이터"
      ],
      "metadata": {
        "id": "8WNb9a95C3rt"
      }
    },
    {
      "cell_type": "markdown",
      "source": [
        "## 1.데이터 전처리\n",
        "- resize\n",
        "- morphologyEx  : 노이즈 제거"
      ],
      "metadata": {
        "id": "MEWzcBCyC3rt"
      }
    },
    {
      "cell_type": "code",
      "source": [
        "# 전역 변수부 \n",
        "categories = os.listdir()[:-1]\n",
        "X = []\n",
        "y = []\n",
        "err = []\n",
        "\n",
        "# 메인부\n",
        "for idx, name in enumerate(tqdm(categories)):\n",
        "\n",
        "    filepath = './'+ name + '/'\n",
        "    # 읽어들일 파일 경로 설정\n",
        "    for path in os.listdir(filepath):\n",
        "\n",
        "        img = cv2.imread(filepath + path)\n",
        "        try:\n",
        "            img = cv2.cvtColor(img, cv2.COLOR_BGR2RGB)\n",
        "            img = cv2.resize(img, dsize=(128, 128), interpolation= cv2.INTER_LINEAR)\n",
        "\n",
        "            # 노이즈 제거 - GaussianBlur (5, 5) 사용\n",
        "            blur = cv2.GaussianBlur(img, ksize = (5, 5), sigmaX = 0)\n",
        "            # 선 따기\n",
        "            #edged = cv2.Canny(blur, 200, 255)\n",
        "\n",
        "            X.append(blur / 256) #.reshape(128, 128, 3)\n",
        "            y.append(idx)\n",
        "\n",
        "        except:\n",
        "            err.append(filepath + path)\n",
        "            continue\n",
        "\n",
        "X_blur = np.array(X)\n",
        "y_blur = to_categorical(np.array(y))     # 원핫인코딩 수행\n",
        "\n",
        "print('\\n에러:','None' if len(err) == 0 else err)"
      ],
      "metadata": {
        "colab": {
          "base_uri": "https://localhost:8080/"
        },
        "outputId": "f7356a16-59ee-418d-ac86-046f9940e042",
        "id": "jjCsDI_gC3rt"
      },
      "execution_count": 10,
      "outputs": [
        {
          "output_type": "stream",
          "name": "stderr",
          "text": [
            "100%|██████████| 8/8 [01:03<00:00,  7.88s/it]\n"
          ]
        },
        {
          "output_type": "stream",
          "name": "stdout",
          "text": [
            "\n",
            "에러: None\n"
          ]
        }
      ]
    },
    {
      "cell_type": "code",
      "source": [
        "X_blur.shape, type(X_blur[0]) "
      ],
      "metadata": {
        "colab": {
          "base_uri": "https://localhost:8080/"
        },
        "outputId": "0df434d7-777e-45c0-a80e-06bbad055119",
        "id": "TKYD3AYiC3ru"
      },
      "execution_count": 11,
      "outputs": [
        {
          "output_type": "execute_result",
          "data": {
            "text/plain": [
              "((4000, 128, 128, 3), numpy.ndarray)"
            ]
          },
          "metadata": {},
          "execution_count": 11
        }
      ]
    },
    {
      "cell_type": "markdown",
      "source": [
        "## 2.train/test split\n",
        "- train 데이터로 train/valid split 진행\n",
        "- train 데이터로 데이터 부풀리기 수행\n"
      ],
      "metadata": {
        "id": "23RT9IfxC3ru"
      }
    },
    {
      "cell_type": "code",
      "source": [
        "from sklearn.model_selection import train_test_split\n",
        "\n",
        "X_train2, X_test2, y_train2, y_test2 = train_test_split(\n",
        "    X_blur, y_blur, test_size = 0.2, stratify = y_blur, random_state = seed\n",
        ")"
      ],
      "metadata": {
        "id": "VI1mAHyuC3ru"
      },
      "execution_count": 12,
      "outputs": []
    },
    {
      "cell_type": "code",
      "source": [
        "X_train2, X_valid2, Y_train2, Y_valid2 = train_test_split(\n",
        "    X_train2, y_train2, stratify = y_train2, test_size = 0.2, random_state = seed\n",
        ")"
      ],
      "metadata": {
        "id": "u7X1gbW7C3rv"
      },
      "execution_count": 13,
      "outputs": []
    },
    {
      "cell_type": "code",
      "source": [
        "from tensorflow.keras.preprocessing.image import ImageDataGenerator\n",
        "\n",
        "datagen = ImageDataGenerator(\n",
        "    rotation_range=10,          # randomly rotate images in the range 15 degree\n",
        "    width_shift_range=0.1,      # randomly shift images horizontally \n",
        "    height_shift_range=0.1,     # randomly shift images vertically\n",
        "    shear_range=0.1,            # 도형의 기울기\n",
        "    zoom_range=[0.8,1.2],       # 0.8~1.2 배 크기로 임의로 확대/축소\n",
        "    horizontal_flip=True,       # randomly flip images\n",
        "    vertical_flip=False,        # randomly flip images\n",
        "    fill_mode='nearest'         # set mode for filling points outside the input boundaries\n",
        ")"
      ],
      "metadata": {
        "id": "iX1nEHpWC3rv"
      },
      "execution_count": 14,
      "outputs": []
    },
    {
      "cell_type": "code",
      "source": [
        "datagen.fit(X_train2)"
      ],
      "metadata": {
        "id": "W3bN6GuPC3rv"
      },
      "execution_count": 15,
      "outputs": []
    },
    {
      "cell_type": "markdown",
      "source": [
        "## 3.모델 정의 및 설정"
      ],
      "metadata": {
        "id": "ZHkAXb34C3rv"
      }
    },
    {
      "cell_type": "code",
      "source": [
        "from tensorflow.keras.layers import Dense, Embedding, Dropout, Flatten, Conv2D, MaxPooling2D\n",
        "from tensorflow.keras.models import Sequential, load_model\n",
        "from tensorflow.keras.callbacks import ModelCheckpoint, EarlyStopping\n",
        "from tensorflow.keras.optimizers import RMSprop, Adam"
      ],
      "metadata": {
        "id": "pwNyJEtsC3rv"
      },
      "execution_count": 16,
      "outputs": []
    },
    {
      "cell_type": "code",
      "source": [
        "model = Sequential([\n",
        "    Conv2D(32, (3, 3), input_shape = X_train2.shape[1:], padding = 'same', activation = 'relu'),\n",
        "    MaxPooling2D((2, 2)),\n",
        "    Dropout(0.25),\n",
        "\n",
        "    Conv2D(64, (3, 3), padding = 'same', activation = 'relu'),\n",
        "    Conv2D(64, (3, 3), activation = 'relu'),\n",
        "    MaxPooling2D((2, 2)),\n",
        "    Dropout(0.25),\n",
        "\n",
        "    Flatten(),\n",
        "    Dense(256, activation='relu'),\n",
        "    Dropout(0.5),\n",
        "    Dense(len(categories), activation = 'softmax')\n",
        "])\n",
        "model.summary()"
      ],
      "metadata": {
        "colab": {
          "base_uri": "https://localhost:8080/"
        },
        "outputId": "35469096-3d14-4369-c0ee-e263c04aeabf",
        "id": "9-P6U-gWC3rv"
      },
      "execution_count": 18,
      "outputs": [
        {
          "output_type": "stream",
          "name": "stdout",
          "text": [
            "Model: \"sequential\"\n",
            "_________________________________________________________________\n",
            " Layer (type)                Output Shape              Param #   \n",
            "=================================================================\n",
            " conv2d (Conv2D)             (None, 128, 128, 32)      896       \n",
            "                                                                 \n",
            " max_pooling2d (MaxPooling2D  (None, 64, 64, 32)       0         \n",
            " )                                                               \n",
            "                                                                 \n",
            " dropout (Dropout)           (None, 64, 64, 32)        0         \n",
            "                                                                 \n",
            " conv2d_1 (Conv2D)           (None, 64, 64, 64)        18496     \n",
            "                                                                 \n",
            " conv2d_2 (Conv2D)           (None, 62, 62, 64)        36928     \n",
            "                                                                 \n",
            " max_pooling2d_1 (MaxPooling  (None, 31, 31, 64)       0         \n",
            " 2D)                                                             \n",
            "                                                                 \n",
            " dropout_1 (Dropout)         (None, 31, 31, 64)        0         \n",
            "                                                                 \n",
            " flatten (Flatten)           (None, 61504)             0         \n",
            "                                                                 \n",
            " dense (Dense)               (None, 256)               15745280  \n",
            "                                                                 \n",
            " dropout_2 (Dropout)         (None, 256)               0         \n",
            "                                                                 \n",
            " dense_1 (Dense)             (None, 8)                 2056      \n",
            "                                                                 \n",
            "=================================================================\n",
            "Total params: 15,803,656\n",
            "Trainable params: 15,803,656\n",
            "Non-trainable params: 0\n",
            "_________________________________________________________________\n"
          ]
        }
      ]
    },
    {
      "cell_type": "code",
      "source": [
        "model.compile('adam', 'categorical_crossentropy', ['accuracy'])\n",
        "\n",
        "model_path2 = './모델저장/poketmon_noise_adam.h5'\n",
        "mc2 = ModelCheckpoint(model_path2, moniter = 'val_loss', verbose = 1, save_best_only = True)\n",
        "es2 = EarlyStopping(patience = 15)\n",
        "\n",
        "hist2 = model.fit(\n",
        "    datagen.flow(X_train2, Y_train2, batch_size=32),\n",
        "    validation_data=(X_valid2, Y_valid2), epochs = 100, callbacks=[mc2, es2]\n",
        ")"
      ],
      "metadata": {
        "colab": {
          "base_uri": "https://localhost:8080/"
        },
        "id": "zZSG9yYOC3rv",
        "outputId": "bd27f003-d90c-44f7-c5f2-ee59bdf2ba81"
      },
      "execution_count": 20,
      "outputs": [
        {
          "output_type": "stream",
          "name": "stdout",
          "text": [
            "Epoch 1/100\n",
            "80/80 [==============================] - ETA: 0s - loss: 1.7079 - accuracy: 0.3902\n",
            "Epoch 1: val_loss improved from inf to 0.93176, saving model to ./모델저장/poketmon_noise_adam.h5\n",
            "80/80 [==============================] - 28s 174ms/step - loss: 1.7079 - accuracy: 0.3902 - val_loss: 0.9318 - val_accuracy: 0.6969\n",
            "Epoch 2/100\n",
            "80/80 [==============================] - ETA: 0s - loss: 0.9822 - accuracy: 0.6793\n",
            "Epoch 2: val_loss improved from 0.93176 to 0.74268, saving model to ./모델저장/poketmon_noise_adam.h5\n",
            "80/80 [==============================] - 13s 160ms/step - loss: 0.9822 - accuracy: 0.6793 - val_loss: 0.7427 - val_accuracy: 0.7422\n",
            "Epoch 3/100\n",
            "80/80 [==============================] - ETA: 0s - loss: 0.8107 - accuracy: 0.7410\n",
            "Epoch 3: val_loss improved from 0.74268 to 0.63276, saving model to ./모델저장/poketmon_noise_adam.h5\n",
            "80/80 [==============================] - 11s 138ms/step - loss: 0.8107 - accuracy: 0.7410 - val_loss: 0.6328 - val_accuracy: 0.8109\n",
            "Epoch 4/100\n",
            "80/80 [==============================] - ETA: 0s - loss: 0.6883 - accuracy: 0.7750\n",
            "Epoch 4: val_loss improved from 0.63276 to 0.59223, saving model to ./모델저장/poketmon_noise_adam.h5\n",
            "80/80 [==============================] - 12s 146ms/step - loss: 0.6883 - accuracy: 0.7750 - val_loss: 0.5922 - val_accuracy: 0.7984\n",
            "Epoch 5/100\n",
            "80/80 [==============================] - ETA: 0s - loss: 0.6391 - accuracy: 0.7859\n",
            "Epoch 5: val_loss improved from 0.59223 to 0.44750, saving model to ./모델저장/poketmon_noise_adam.h5\n",
            "80/80 [==============================] - 11s 133ms/step - loss: 0.6391 - accuracy: 0.7859 - val_loss: 0.4475 - val_accuracy: 0.8625\n",
            "Epoch 6/100\n",
            "80/80 [==============================] - ETA: 0s - loss: 0.5764 - accuracy: 0.8043\n",
            "Epoch 6: val_loss did not improve from 0.44750\n",
            "80/80 [==============================] - 10s 126ms/step - loss: 0.5764 - accuracy: 0.8043 - val_loss: 0.5047 - val_accuracy: 0.8359\n",
            "Epoch 7/100\n",
            "80/80 [==============================] - ETA: 0s - loss: 0.5773 - accuracy: 0.8125\n",
            "Epoch 7: val_loss improved from 0.44750 to 0.41235, saving model to ./모델저장/poketmon_noise_adam.h5\n",
            "80/80 [==============================] - 12s 148ms/step - loss: 0.5773 - accuracy: 0.8125 - val_loss: 0.4123 - val_accuracy: 0.8703\n",
            "Epoch 8/100\n",
            "80/80 [==============================] - ETA: 0s - loss: 0.4956 - accuracy: 0.8242\n",
            "Epoch 8: val_loss did not improve from 0.41235\n",
            "80/80 [==============================] - 10s 129ms/step - loss: 0.4956 - accuracy: 0.8242 - val_loss: 0.4176 - val_accuracy: 0.8641\n",
            "Epoch 9/100\n",
            "80/80 [==============================] - ETA: 0s - loss: 0.5273 - accuracy: 0.8203\n",
            "Epoch 9: val_loss improved from 0.41235 to 0.38026, saving model to ./모델저장/poketmon_noise_adam.h5\n",
            "80/80 [==============================] - 11s 143ms/step - loss: 0.5273 - accuracy: 0.8203 - val_loss: 0.3803 - val_accuracy: 0.8813\n",
            "Epoch 10/100\n",
            "80/80 [==============================] - ETA: 0s - loss: 0.4614 - accuracy: 0.8410\n",
            "Epoch 10: val_loss did not improve from 0.38026\n",
            "80/80 [==============================] - 10s 127ms/step - loss: 0.4614 - accuracy: 0.8410 - val_loss: 0.3839 - val_accuracy: 0.8859\n",
            "Epoch 11/100\n",
            "80/80 [==============================] - ETA: 0s - loss: 0.4712 - accuracy: 0.8324\n",
            "Epoch 11: val_loss improved from 0.38026 to 0.36156, saving model to ./모델저장/poketmon_noise_adam.h5\n",
            "80/80 [==============================] - 12s 150ms/step - loss: 0.4712 - accuracy: 0.8324 - val_loss: 0.3616 - val_accuracy: 0.8719\n",
            "Epoch 12/100\n",
            "80/80 [==============================] - ETA: 0s - loss: 0.4483 - accuracy: 0.8477\n",
            "Epoch 12: val_loss improved from 0.36156 to 0.34833, saving model to ./모델저장/poketmon_noise_adam.h5\n",
            "80/80 [==============================] - 11s 134ms/step - loss: 0.4483 - accuracy: 0.8477 - val_loss: 0.3483 - val_accuracy: 0.8828\n",
            "Epoch 13/100\n",
            "80/80 [==============================] - ETA: 0s - loss: 0.4450 - accuracy: 0.8523\n",
            "Epoch 13: val_loss did not improve from 0.34833\n",
            "80/80 [==============================] - 10s 126ms/step - loss: 0.4450 - accuracy: 0.8523 - val_loss: 0.3495 - val_accuracy: 0.8813\n",
            "Epoch 14/100\n",
            "80/80 [==============================] - ETA: 0s - loss: 0.4321 - accuracy: 0.8551\n",
            "Epoch 14: val_loss improved from 0.34833 to 0.32491, saving model to ./모델저장/poketmon_noise_adam.h5\n",
            "80/80 [==============================] - 14s 174ms/step - loss: 0.4321 - accuracy: 0.8551 - val_loss: 0.3249 - val_accuracy: 0.9016\n",
            "Epoch 15/100\n",
            "80/80 [==============================] - ETA: 0s - loss: 0.4061 - accuracy: 0.8680\n",
            "Epoch 15: val_loss did not improve from 0.32491\n",
            "80/80 [==============================] - 11s 135ms/step - loss: 0.4061 - accuracy: 0.8680 - val_loss: 0.4085 - val_accuracy: 0.8641\n",
            "Epoch 16/100\n",
            "80/80 [==============================] - ETA: 0s - loss: 0.4604 - accuracy: 0.8430\n",
            "Epoch 16: val_loss did not improve from 0.32491\n",
            "80/80 [==============================] - 11s 134ms/step - loss: 0.4604 - accuracy: 0.8430 - val_loss: 0.3276 - val_accuracy: 0.8891\n",
            "Epoch 17/100\n",
            "80/80 [==============================] - ETA: 0s - loss: 0.3652 - accuracy: 0.8738\n",
            "Epoch 17: val_loss improved from 0.32491 to 0.31538, saving model to ./모델저장/poketmon_noise_adam.h5\n",
            "80/80 [==============================] - 12s 149ms/step - loss: 0.3652 - accuracy: 0.8738 - val_loss: 0.3154 - val_accuracy: 0.8922\n",
            "Epoch 18/100\n",
            "80/80 [==============================] - ETA: 0s - loss: 0.4112 - accuracy: 0.8648\n",
            "Epoch 18: val_loss did not improve from 0.31538\n",
            "80/80 [==============================] - 11s 133ms/step - loss: 0.4112 - accuracy: 0.8648 - val_loss: 0.3376 - val_accuracy: 0.9000\n",
            "Epoch 19/100\n",
            "80/80 [==============================] - ETA: 0s - loss: 0.3842 - accuracy: 0.8727\n",
            "Epoch 19: val_loss did not improve from 0.31538\n",
            "80/80 [==============================] - 10s 130ms/step - loss: 0.3842 - accuracy: 0.8727 - val_loss: 0.3471 - val_accuracy: 0.8906\n",
            "Epoch 20/100\n",
            "80/80 [==============================] - ETA: 0s - loss: 0.3658 - accuracy: 0.8793\n",
            "Epoch 20: val_loss improved from 0.31538 to 0.31105, saving model to ./모델저장/poketmon_noise_adam.h5\n",
            "80/80 [==============================] - 12s 154ms/step - loss: 0.3658 - accuracy: 0.8793 - val_loss: 0.3110 - val_accuracy: 0.9000\n",
            "Epoch 21/100\n",
            "80/80 [==============================] - ETA: 0s - loss: 0.3584 - accuracy: 0.8828\n",
            "Epoch 21: val_loss did not improve from 0.31105\n",
            "80/80 [==============================] - 10s 127ms/step - loss: 0.3584 - accuracy: 0.8828 - val_loss: 0.3793 - val_accuracy: 0.8781\n",
            "Epoch 22/100\n",
            "80/80 [==============================] - ETA: 0s - loss: 0.3835 - accuracy: 0.8727\n",
            "Epoch 22: val_loss did not improve from 0.31105\n",
            "80/80 [==============================] - 10s 129ms/step - loss: 0.3835 - accuracy: 0.8727 - val_loss: 0.4361 - val_accuracy: 0.8656\n",
            "Epoch 23/100\n",
            "80/80 [==============================] - ETA: 0s - loss: 0.3633 - accuracy: 0.8852\n",
            "Epoch 23: val_loss did not improve from 0.31105\n",
            "80/80 [==============================] - 10s 125ms/step - loss: 0.3633 - accuracy: 0.8852 - val_loss: 0.3266 - val_accuracy: 0.8953\n",
            "Epoch 24/100\n",
            "80/80 [==============================] - ETA: 0s - loss: 0.3526 - accuracy: 0.8832\n",
            "Epoch 24: val_loss did not improve from 0.31105\n",
            "80/80 [==============================] - 10s 127ms/step - loss: 0.3526 - accuracy: 0.8832 - val_loss: 0.3525 - val_accuracy: 0.9062\n",
            "Epoch 25/100\n",
            "80/80 [==============================] - ETA: 0s - loss: 0.3177 - accuracy: 0.8824\n",
            "Epoch 25: val_loss improved from 0.31105 to 0.29436, saving model to ./모델저장/poketmon_noise_adam.h5\n",
            "80/80 [==============================] - 12s 146ms/step - loss: 0.3177 - accuracy: 0.8824 - val_loss: 0.2944 - val_accuracy: 0.9000\n",
            "Epoch 26/100\n",
            "80/80 [==============================] - ETA: 0s - loss: 0.3182 - accuracy: 0.8879\n",
            "Epoch 26: val_loss did not improve from 0.29436\n",
            "80/80 [==============================] - 11s 132ms/step - loss: 0.3182 - accuracy: 0.8879 - val_loss: 0.3125 - val_accuracy: 0.9109\n",
            "Epoch 27/100\n",
            "80/80 [==============================] - ETA: 0s - loss: 0.3288 - accuracy: 0.8941\n",
            "Epoch 27: val_loss improved from 0.29436 to 0.29415, saving model to ./모델저장/poketmon_noise_adam.h5\n",
            "80/80 [==============================] - 12s 150ms/step - loss: 0.3288 - accuracy: 0.8941 - val_loss: 0.2941 - val_accuracy: 0.9078\n",
            "Epoch 28/100\n",
            "80/80 [==============================] - ETA: 0s - loss: 0.2936 - accuracy: 0.8988\n",
            "Epoch 28: val_loss did not improve from 0.29415\n",
            "80/80 [==============================] - 10s 128ms/step - loss: 0.2936 - accuracy: 0.8988 - val_loss: 0.4033 - val_accuracy: 0.8750\n",
            "Epoch 29/100\n",
            "80/80 [==============================] - ETA: 0s - loss: 0.3405 - accuracy: 0.8875\n",
            "Epoch 29: val_loss did not improve from 0.29415\n",
            "80/80 [==============================] - 10s 130ms/step - loss: 0.3405 - accuracy: 0.8875 - val_loss: 0.3597 - val_accuracy: 0.8938\n",
            "Epoch 30/100\n",
            "80/80 [==============================] - ETA: 0s - loss: 0.3178 - accuracy: 0.8938\n",
            "Epoch 30: val_loss did not improve from 0.29415\n",
            "80/80 [==============================] - 10s 125ms/step - loss: 0.3178 - accuracy: 0.8938 - val_loss: 0.3076 - val_accuracy: 0.9141\n",
            "Epoch 31/100\n",
            "80/80 [==============================] - ETA: 0s - loss: 0.3069 - accuracy: 0.8949\n",
            "Epoch 31: val_loss did not improve from 0.29415\n",
            "80/80 [==============================] - 10s 126ms/step - loss: 0.3069 - accuracy: 0.8949 - val_loss: 0.2972 - val_accuracy: 0.9125\n",
            "Epoch 32/100\n",
            "80/80 [==============================] - ETA: 0s - loss: 0.2993 - accuracy: 0.9031\n",
            "Epoch 32: val_loss did not improve from 0.29415\n",
            "80/80 [==============================] - 10s 129ms/step - loss: 0.2993 - accuracy: 0.9031 - val_loss: 0.3147 - val_accuracy: 0.9062\n",
            "Epoch 33/100\n",
            "80/80 [==============================] - ETA: 0s - loss: 0.2909 - accuracy: 0.9023\n",
            "Epoch 33: val_loss did not improve from 0.29415\n",
            "80/80 [==============================] - 10s 128ms/step - loss: 0.2909 - accuracy: 0.9023 - val_loss: 0.3108 - val_accuracy: 0.9141\n",
            "Epoch 34/100\n",
            "80/80 [==============================] - ETA: 0s - loss: 0.2934 - accuracy: 0.9016\n",
            "Epoch 34: val_loss did not improve from 0.29415\n",
            "80/80 [==============================] - 10s 128ms/step - loss: 0.2934 - accuracy: 0.9016 - val_loss: 0.2973 - val_accuracy: 0.9250\n",
            "Epoch 35/100\n",
            "80/80 [==============================] - ETA: 0s - loss: 0.2543 - accuracy: 0.9094\n",
            "Epoch 35: val_loss did not improve from 0.29415\n",
            "80/80 [==============================] - 10s 128ms/step - loss: 0.2543 - accuracy: 0.9094 - val_loss: 0.2978 - val_accuracy: 0.9172\n",
            "Epoch 36/100\n",
            "80/80 [==============================] - ETA: 0s - loss: 0.2913 - accuracy: 0.9051\n",
            "Epoch 36: val_loss did not improve from 0.29415\n",
            "80/80 [==============================] - 10s 129ms/step - loss: 0.2913 - accuracy: 0.9051 - val_loss: 0.3488 - val_accuracy: 0.8859\n",
            "Epoch 37/100\n",
            "80/80 [==============================] - ETA: 0s - loss: 0.2786 - accuracy: 0.9082\n",
            "Epoch 37: val_loss did not improve from 0.29415\n",
            "80/80 [==============================] - 10s 127ms/step - loss: 0.2786 - accuracy: 0.9082 - val_loss: 0.3243 - val_accuracy: 0.9156\n",
            "Epoch 38/100\n",
            "80/80 [==============================] - ETA: 0s - loss: 0.2490 - accuracy: 0.9113\n",
            "Epoch 38: val_loss did not improve from 0.29415\n",
            "80/80 [==============================] - 10s 126ms/step - loss: 0.2490 - accuracy: 0.9113 - val_loss: 0.4376 - val_accuracy: 0.8844\n",
            "Epoch 39/100\n",
            "80/80 [==============================] - ETA: 0s - loss: 0.2697 - accuracy: 0.9035\n",
            "Epoch 39: val_loss did not improve from 0.29415\n",
            "80/80 [==============================] - 10s 126ms/step - loss: 0.2697 - accuracy: 0.9035 - val_loss: 0.3174 - val_accuracy: 0.9078\n",
            "Epoch 40/100\n",
            "80/80 [==============================] - ETA: 0s - loss: 0.2746 - accuracy: 0.9094\n",
            "Epoch 40: val_loss did not improve from 0.29415\n",
            "80/80 [==============================] - 12s 147ms/step - loss: 0.2746 - accuracy: 0.9094 - val_loss: 0.3776 - val_accuracy: 0.9047\n",
            "Epoch 41/100\n",
            "80/80 [==============================] - ETA: 0s - loss: 0.2806 - accuracy: 0.9062\n",
            "Epoch 41: val_loss did not improve from 0.29415\n",
            "80/80 [==============================] - 10s 128ms/step - loss: 0.2806 - accuracy: 0.9062 - val_loss: 0.3209 - val_accuracy: 0.9297\n",
            "Epoch 42/100\n",
            "80/80 [==============================] - ETA: 0s - loss: 0.2372 - accuracy: 0.9211\n",
            "Epoch 42: val_loss did not improve from 0.29415\n",
            "80/80 [==============================] - 10s 128ms/step - loss: 0.2372 - accuracy: 0.9211 - val_loss: 0.2946 - val_accuracy: 0.9266\n"
          ]
        }
      ]
    },
    {
      "cell_type": "code",
      "source": [
        "xy2 = (X_train2, X_valid2, X_test2, Y_train2, Y_valid2, y_test2)\n",
        "\n",
        "np.save(\"./모델저장/train_valid_test_noise_xy.npy\", xy2)\n",
        "\n",
        "# 읽어들일 때는 사용\n",
        "# X_train, X_test, Y_train, Y_test = np.load('./obj.npy')"
      ],
      "metadata": {
        "colab": {
          "base_uri": "https://localhost:8080/"
        },
        "outputId": "ff758644-60ad-46c0-c278-cdaa12e8c36e",
        "id": "YZkCz5ozC3rw"
      },
      "execution_count": 21,
      "outputs": [
        {
          "output_type": "stream",
          "name": "stderr",
          "text": [
            "/usr/local/lib/python3.7/dist-packages/numpy/lib/npyio.py:528: VisibleDeprecationWarning: Creating an ndarray from ragged nested sequences (which is a list-or-tuple of lists-or-tuples-or ndarrays with different lengths or shapes) is deprecated. If you meant to do this, you must specify 'dtype=object' when creating the ndarray.\n",
            "  arr = np.asanyarray(arr)\n"
          ]
        }
      ]
    },
    {
      "cell_type": "code",
      "source": [
        "best_model2 = load_model(model_path2)\n",
        "best_model2.evaluate(X_test2, y_test2)"
      ],
      "metadata": {
        "colab": {
          "base_uri": "https://localhost:8080/"
        },
        "outputId": "3263a313-47ca-428a-868a-231d7a0b113b",
        "id": "2A1q6PKqC3rw"
      },
      "execution_count": 22,
      "outputs": [
        {
          "output_type": "stream",
          "name": "stdout",
          "text": [
            "25/25 [==============================] - 1s 20ms/step - loss: 0.3110 - accuracy: 0.8925\n"
          ]
        },
        {
          "output_type": "execute_result",
          "data": {
            "text/plain": [
              "[0.3109648823738098, 0.8924999833106995]"
            ]
          },
          "metadata": {},
          "execution_count": 22
        }
      ]
    },
    {
      "cell_type": "code",
      "source": [
        "y_acc = hist2.history['accuracy']\n",
        "y_vloss = hist2.history['val_loss']\n",
        "xs = np.arange(1, len(y_acc) + 1)\n",
        "\n",
        "plt.figure(figsize = (10, 7))\n",
        "plt.plot(xs, y_acc, label = 'accuracy')\n",
        "plt.plot(xs, y_vloss, label = 'validation_loss')\n",
        "plt.xlabel('Epoch')\n",
        "plt.title('Poketmon_adam_noise')\n",
        "plt.legend()\n",
        "plt.grid(linestyle = ':')\n",
        "\n",
        "plt.show()"
      ],
      "metadata": {
        "colab": {
          "base_uri": "https://localhost:8080/",
          "height": 458
        },
        "outputId": "556af84d-675b-44da-b5f8-a259e2455026",
        "id": "sigHlWCKC3rw"
      },
      "execution_count": 23,
      "outputs": [
        {
          "output_type": "display_data",
          "data": {
            "text/plain": [
              "<Figure size 720x504 with 1 Axes>"
            ],
            "image/png": "[encoded data removed]"
          },
          "metadata": {
            "needs_background": "light"
          }
        }
      ]
    },
    {
      "cell_type": "code",
      "source": [
        ""
      ],
      "metadata": {
        "id": "bov279PAGSNa"
      },
      "execution_count": null,
      "outputs": []
    }
  ]
}