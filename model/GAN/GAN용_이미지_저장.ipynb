{
  "nbformat": 4,
  "nbformat_minor": 0,
  "metadata": {
    "colab": {
      "name": "GAN용_이미지 저장.ipynb",
      "provenance": [],
      "collapsed_sections": []
    },
    "kernelspec": {
      "name": "python3",
      "display_name": "Python 3"
    },
    "language_info": {
      "name": "python"
    }
  },
  "cells": [
    {
      "cell_type": "code",
      "source": [
        "import cv2\n",
        "import numpy as np\n",
        "from tqdm import tqdm \n",
        "import os, sys\n",
        "import matplotlib.pyplot as plt"
      ],
      "metadata": {
        "id": "SjOewexL1VZH"
      },
      "execution_count": 12,
      "outputs": []
    },
    {
      "cell_type": "code",
      "source": [
        "%cd /content/drive/MyDrive/세미(2) 프로젝트"
      ],
      "metadata": {
        "colab": {
          "base_uri": "https://localhost:8080/"
        },
        "id": "FQ6IWDU1yNyz",
        "outputId": "27aed717-9732-4b9f-eccd-791162f88bad"
      },
      "execution_count": 1,
      "outputs": [
        {
          "output_type": "stream",
          "name": "stdout",
          "text": [
            "/content/drive/.shortcut-targets-by-id/1iZJ97_6lEv6dD796nV-fw4WzH5bf62Jz/세미(2) 프로젝트\n"
          ]
        }
      ]
    },
    {
      "cell_type": "code",
      "source": [
        "# !pip install flickrapi"
      ],
      "metadata": {
        "id": "RbQVWIboypyz"
      },
      "execution_count": null,
      "outputs": []
    },
    {
      "cell_type": "code",
      "source": [
        "os.listdir('./NEWDATA')[:8]"
      ],
      "metadata": {
        "colab": {
          "base_uri": "https://localhost:8080/"
        },
        "id": "UoBDUNpq1SJ1",
        "outputId": "ed30edaa-5171-4acb-ee06-29d266f84813"
      },
      "execution_count": 6,
      "outputs": [
        {
          "output_type": "execute_result",
          "data": {
            "text/plain": [
              "['squirtle', 'jammanbo', 'evee', 'pie', 'isang', 'pikachu', 'jiwoo', 'leeseul']"
            ]
          },
          "metadata": {},
          "execution_count": 6
        }
      ]
    },
    {
      "cell_type": "code",
      "execution_count": 23,
      "metadata": {
        "colab": {
          "base_uri": "https://localhost:8080/"
        },
        "id": "PFNoopX3wQbe",
        "outputId": "38ec3736-bf70-48c9-ccc5-6b34a6a5393b"
      },
      "outputs": [
        {
          "output_type": "stream",
          "name": "stderr",
          "text": [
            "100%|██████████| 8/8 [00:25<00:00,  3.17s/it]"
          ]
        },
        {
          "output_type": "stream",
          "name": "stdout",
          "text": [
            "\n",
            "에러: None\n"
          ]
        },
        {
          "output_type": "stream",
          "name": "stderr",
          "text": [
            "\n"
          ]
        }
      ],
      "source": [
        "X = []\n",
        "y = []\n",
        "err = []\n",
        "img_size = 64\n",
        "categories = os.listdir('./NEWDATA')[:8]\n",
        "\n",
        "for name in tqdm(categories):\n",
        "\n",
        "    os.makedirs(f'./NEWDATA/GAN/{name}', exist_ok=True)            # exist_ok=True : 해당 경로가 존재하지 않을 때만 생성\n",
        "    os.makedirs(f'./NEWDATA/GAN/{name}/trainA', exist_ok=True)\n",
        "    os.makedirs(f'./NEWDATA/GAN/{name}/trainB', exist_ok=True)\n",
        "\n",
        "    filepath = './NEWDATA/' + name + '/'\n",
        "    # 읽어들일 파일 경로 설정\n",
        "    for idx, path in enumerate(os.listdir(filepath)):\n",
        "\n",
        "        img = cv2.imread(filepath + path, cv2.IMREAD_GRAYSCALE)\n",
        "        try:\n",
        "            img = cv2.resize(img, dsize=(img_size, img_size), interpolation= cv2.INTER_LINEAR)\n",
        "            # blur = cv2.GaussianBlur(img, ksize = (3,3), sigmaX = 0)\n",
        "            edged = cv2.Canny(img, 150, 200)\n",
        "            # 이미지 저장\n",
        "            cv2.imwrite(f'./NEWDATA/GAN/{name}/trainA/{name}{idx}.jpg', edged)\n",
        "            cv2.imwrite(f'./NEWDATA/GAN/{name}/trainB/{name}{idx}.jpg', img)\n",
        "\n",
        "        except:\n",
        "            err.append(filepath + path)\n",
        "            continue\n",
        "print('\\n에러:','None' if len(err) == 0 else err)"
      ]
    }
  ]
}