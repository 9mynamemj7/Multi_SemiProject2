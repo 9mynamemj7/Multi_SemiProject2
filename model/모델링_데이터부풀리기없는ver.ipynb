{
  "nbformat": 4,
  "nbformat_minor": 0,
  "metadata": {
    "colab": {
      "name": "모델링_데이터부풀리기없는ver.ipynb",
      "provenance": []
    },
    "kernelspec": {
      "name": "python3",
      "display_name": "Python 3"
    },
    "language_info": {
      "name": "python"
    }
  },
  "cells": [
    {
      "cell_type": "code",
      "execution_count": null,
      "metadata": {
        "id": "eIS5h6eOUkMV"
      },
      "outputs": [],
      "source": [
        "import numpy as np\n",
        "from tqdm import tqdm\n",
        "import tensorflow as tf\n",
        "from tensorflow.keras.utils import to_categorical\n",
        "import matplotlib.pyplot as plt\n",
        "import os, warnings, cv2\n",
        "seed = 2022\n",
        "tf.random.set_seed(seed)\n",
        "np.random.seed(seed)"
      ]
    },
    {
      "cell_type": "code",
      "source": [
        "from google.colab import drive\n",
        "drive.mount('/content/drive')"
      ],
      "metadata": {
        "colab": {
          "base_uri": "https://localhost:8080/"
        },
        "id": "YWRaAA4o-aTG",
        "outputId": "800ccb15-3e31-4284-f70d-f65cba61630d"
      },
      "execution_count": null,
      "outputs": [
        {
          "output_type": "stream",
          "name": "stdout",
          "text": [
            "Mounted at /content/drive\n"
          ]
        }
      ]
    },
    {
      "cell_type": "code",
      "source": [
        "%cd /content/drive/MyDrive/세미(2) 프로젝트/2.데이터"
      ],
      "metadata": {
        "colab": {
          "base_uri": "https://localhost:8080/"
        },
        "id": "94dNz393-YuG",
        "outputId": "c0a4c475-e595-4cde-d825-1a557e806c69"
      },
      "execution_count": null,
      "outputs": [
        {
          "output_type": "stream",
          "name": "stdout",
          "text": [
            "/content/drive/.shortcut-targets-by-id/1iZJ97_6lEv6dD796nV-fw4WzH5bf62Jz/세미(2) 프로젝트/2.데이터\n"
          ]
        }
      ]
    },
    {
      "cell_type": "code",
      "source": [
        "# 파일 이름 읽어오기 (레이블로 사용 가능)\n",
        "categories = os.listdir()[:8]\n",
        "print(categories)"
      ],
      "metadata": {
        "colab": {
          "base_uri": "https://localhost:8080/"
        },
        "id": "Ygu7De9R-mb3",
        "outputId": "403ce35c-0a8b-4fd6-daa5-bde33ddcb1de"
      },
      "execution_count": null,
      "outputs": [
        {
          "output_type": "stream",
          "name": "stdout",
          "text": [
            "['isang', 'jammanbo', 'evee', 'pie', 'squirtle', 'pikachu', 'jiwoo', 'leeseul']\n"
          ]
        }
      ]
    },
    {
      "cell_type": "markdown",
      "source": [
        "## 1.데이터 전처리\n",
        "- resize\n",
        "- morphologyEx  : 노이즈 제거"
      ],
      "metadata": {
        "id": "7q6RaFPSqEIi"
      }
    },
    {
      "cell_type": "code",
      "source": [
        "# 전역 변수부 \n",
        "categories = os.listdir()[:-1]\n",
        "X = []\n",
        "y = []\n",
        "err = []\n",
        "\n",
        "# 메인부\n",
        "for idx, name in enumerate(tqdm(categories)):\n",
        "\n",
        "    filepath = './'+ name + '/'\n",
        "    # 읽어들일 파일 경로 설정\n",
        "    for path in os.listdir(filepath):\n",
        "\n",
        "        img = cv2.imread(filepath + path)\n",
        "        try:\n",
        "            img = cv2.cvtColor(img, cv2.COLOR_BGR2RGB)\n",
        "            img = cv2.resize(img, dsize=(128, 128), interpolation= cv2.INTER_LINEAR)\n",
        "\n",
        "            # 노이즈 제거 - GaussianBlur (5, 5) 사용\n",
        "            \n",
        "            #blur = cv2.GaussianBlur(img, ksize = (5, 5), sigmaX = 0)\n",
        "            # 선 따기\n",
        "            #edged = cv2.Canny(blur, 200, 255)\n",
        "\n",
        "            X.append(img / 256) #.reshape(128, 128, 3)\n",
        "            y.append(idx)\n",
        "\n",
        "        except:\n",
        "            err.append(filepath + path)\n",
        "            continue\n",
        "\n",
        "X = np.array(X)\n",
        "y = to_categorical(np.array(y))     # 원핫인코딩 수행\n",
        "\n",
        "print('\\n에러:','None' if len(err) == 0 else err)"
      ],
      "metadata": {
        "id": "y_xc3W-Z0lUG",
        "colab": {
          "base_uri": "https://localhost:8080/"
        },
        "outputId": "8f079fdb-d51b-4246-f343-57a518ad7966"
      },
      "execution_count": null,
      "outputs": [
        {
          "output_type": "stream",
          "name": "stderr",
          "text": [
            "100%|██████████| 8/8 [00:53<00:00,  6.72s/it]\n"
          ]
        },
        {
          "output_type": "stream",
          "name": "stdout",
          "text": [
            "\n",
            "에러: ['./jiwoo/jiwoo (367).jpg']\n"
          ]
        }
      ]
    },
    {
      "cell_type": "code",
      "source": [
        "print(y[0])\n",
        "print(type(y))"
      ],
      "metadata": {
        "colab": {
          "base_uri": "https://localhost:8080/"
        },
        "id": "KwTOFo2Ls30r",
        "outputId": "267022c1-0ae3-4843-c853-6176ce3f5bdb"
      },
      "execution_count": null,
      "outputs": [
        {
          "output_type": "stream",
          "name": "stdout",
          "text": [
            "[1. 0. 0. 0. 0. 0. 0. 0.]\n",
            "<class 'numpy.ndarray'>\n"
          ]
        }
      ]
    },
    {
      "cell_type": "code",
      "source": [
        "X.shape, type(X[0]) "
      ],
      "metadata": {
        "colab": {
          "base_uri": "https://localhost:8080/"
        },
        "id": "ai44_nivXHvr",
        "outputId": "3a140040-f669-4888-c135-3e726870de20"
      },
      "execution_count": null,
      "outputs": [
        {
          "output_type": "execute_result",
          "data": {
            "text/plain": [
              "((3999, 128, 128, 3), numpy.ndarray)"
            ]
          },
          "metadata": {},
          "execution_count": 8
        }
      ]
    },
    {
      "cell_type": "code",
      "source": [
        " # x.reshape(1, 24, 24, 3)"
      ],
      "metadata": {
        "id": "s9x0YoWmX6V0"
      },
      "execution_count": null,
      "outputs": []
    },
    {
      "cell_type": "markdown",
      "source": [
        "## 2.train/test split\n",
        "- train 데이터로 train/valid split 진행\n",
        "- train 데이터로 데이터 부풀리기 수행\n"
      ],
      "metadata": {
        "id": "U8xKDI8cqCYT"
      }
    },
    {
      "cell_type": "code",
      "source": [
        "from sklearn.model_selection import train_test_split\n",
        "\n",
        "X_train, X_test, y_train, y_test = train_test_split(\n",
        "    X, y, test_size = 0.2, stratify = y, random_state = seed\n",
        ")"
      ],
      "metadata": {
        "id": "NL92IyeCo2FZ"
      },
      "execution_count": null,
      "outputs": []
    },
    {
      "cell_type": "code",
      "source": [
        "X_train, X_valid, Y_train, Y_valid = train_test_split(\n",
        "    X_train, y_train, stratify = y_train, test_size = 0.2, random_state = seed\n",
        ")"
      ],
      "metadata": {
        "id": "HKsBZeNHx-Z0"
      },
      "execution_count": null,
      "outputs": []
    },
    {
      "cell_type": "code",
      "source": [
        "from tensorflow.keras.preprocessing.image import ImageDataGenerator\n",
        "\n",
        "datagen = ImageDataGenerator(\n",
        "    rotation_range=10,          # randomly rotate images in the range 15 degree\n",
        "    width_shift_range=0.1,      # randomly shift images horizontally \n",
        "    height_shift_range=0.1,     # randomly shift images vertically\n",
        "    shear_range=0.1,            # 도형의 기울기\n",
        "    zoom_range=[0.8,1.2],       # 0.8~1.2 배 크기로 임의로 확대/축소\n",
        "    horizontal_flip=True,       # randomly flip images\n",
        "    vertical_flip=False,        # randomly flip images\n",
        "    fill_mode='nearest'         # set mode for filling points outside the input boundaries\n",
        ")"
      ],
      "metadata": {
        "id": "j2Awqo2i_QIH"
      },
      "execution_count": null,
      "outputs": []
    },
    {
      "cell_type": "code",
      "source": [
        "datagen.fit(X_train)"
      ],
      "metadata": {
        "id": "H5n1D_FDm4j_"
      },
      "execution_count": null,
      "outputs": []
    },
    {
      "cell_type": "code",
      "source": [
        "datagen.flow(X_train, y = None, batch_size = 1, save_to_dir = './데이터부풀리기/노이즈제거',\n",
        "                   save_prefix = 'pre')"
      ],
      "metadata": {
        "colab": {
          "base_uri": "https://localhost:8080/"
        },
        "id": "H4512nZpyAI-",
        "outputId": "03ab89c8-79e6-4f41-abe3-2dce424382c1"
      },
      "execution_count": null,
      "outputs": [
        {
          "output_type": "execute_result",
          "data": {
            "text/plain": [
              "<keras.preprocessing.image.NumpyArrayIterator at 0x7fc8358dadd0>"
            ]
          },
          "metadata": {},
          "execution_count": 73
        }
      ]
    },
    {
      "cell_type": "code",
      "source": [
        "for i, _ in enumerate(datagen.flow(X_train, batch_size = 1, save_to_dir = './데이터부풀리기/노이즈제거',\n",
        "                                   save_prefix = 'pre',  save_format = 'jpg')):\n",
        "    if i == :\n",
        "        break"
      ],
      "metadata": {
        "id": "v79Qjge6aiQT"
      },
      "execution_count": null,
      "outputs": []
    },
    {
      "cell_type": "code",
      "source": [
        "X_train[0].shape, X_train[0].shape[1:]"
      ],
      "metadata": {
        "colab": {
          "base_uri": "https://localhost:8080/"
        },
        "id": "GEF-ikJiSVYj",
        "outputId": "571d112f-cde2-4bd9-d849-9aace0a86536"
      },
      "execution_count": null,
      "outputs": [
        {
          "output_type": "execute_result",
          "data": {
            "text/plain": [
              "((128, 128, 3), (128, 3))"
            ]
          },
          "metadata": {},
          "execution_count": 74
        }
      ]
    },
    {
      "cell_type": "code",
      "source": [
        "train_datagenerator = datagen.flow_from_directory(\n",
        "    './데이터부풀리기/노이즈제거', target_size = (128, 128),\n",
        "    batch_size = 3, class_mode = 'categorical'\n",
        ")"
      ],
      "metadata": {
        "colab": {
          "base_uri": "https://localhost:8080/"
        },
        "id": "MRVv71SdaA0a",
        "outputId": "194b542e-ff5a-40eb-c6a1-8b27400405a9"
      },
      "execution_count": null,
      "outputs": [
        {
          "output_type": "stream",
          "name": "stdout",
          "text": [
            "Found 0 images belonging to 0 classes.\n"
          ]
        }
      ]
    },
    {
      "cell_type": "markdown",
      "source": [
        "## 3.모델 정의 및 설정"
      ],
      "metadata": {
        "id": "aHsjwgfQya4L"
      }
    },
    {
      "cell_type": "code",
      "source": [
        "from tensorflow.keras.layers import Dense, Embedding, Dropout, Flatten, Conv2D, MaxPooling2D\n",
        "from tensorflow.keras.models import Sequential, load_model\n",
        "from tensorflow.keras.callbacks import ModelCheckpoint, EarlyStopping\n",
        "from tensorflow.keras.optimizers import RMSprop, Adam"
      ],
      "metadata": {
        "id": "UMpWbU8nyoQd"
      },
      "execution_count": null,
      "outputs": []
    },
    {
      "cell_type": "markdown",
      "source": [
        "---\n",
        "- 데이터 부풀리기 없이 진행\n",
        "\n",
        "\n",
        "\n"
      ],
      "metadata": {
        "id": "ACyPtfvkuWw5"
      }
    },
    {
      "cell_type": "code",
      "source": [
        "model = Sequential([\n",
        "    Conv2D(32, (3, 3), input_shape = X_train.shape[1:], padding = 'same', activation = 'relu'),\n",
        "    MaxPooling2D((2, 2)),\n",
        "    Dropout(0.25),\n",
        "\n",
        "    Conv2D(64, (3, 3), padding = 'same', activation = 'relu'),\n",
        "    Conv2D(64, (3, 3), activation = 'relu'),\n",
        "    MaxPooling2D((2, 2)),\n",
        "    Dropout(0.25),\n",
        "\n",
        "    Flatten(),\n",
        "    Dense(256, activation='relu'),\n",
        "    Dropout(0.5),\n",
        "    Dense(len(categories), activation = 'softmax')\n",
        "])\n",
        "model.summary()"
      ],
      "metadata": {
        "colab": {
          "base_uri": "https://localhost:8080/"
        },
        "outputId": "e388d902-e651-4a32-a3be-948c9bc68202",
        "id": "JoxhjBxKufI-"
      },
      "execution_count": null,
      "outputs": [
        {
          "output_type": "stream",
          "name": "stdout",
          "text": [
            "Model: \"sequential\"\n",
            "_________________________________________________________________\n",
            " Layer (type)                Output Shape              Param #   \n",
            "=================================================================\n",
            " conv2d (Conv2D)             (None, 128, 128, 32)      896       \n",
            "                                                                 \n",
            " max_pooling2d (MaxPooling2D  (None, 64, 64, 32)       0         \n",
            " )                                                               \n",
            "                                                                 \n",
            " dropout (Dropout)           (None, 64, 64, 32)        0         \n",
            "                                                                 \n",
            " conv2d_1 (Conv2D)           (None, 64, 64, 64)        18496     \n",
            "                                                                 \n",
            " conv2d_2 (Conv2D)           (None, 62, 62, 64)        36928     \n",
            "                                                                 \n",
            " max_pooling2d_1 (MaxPooling  (None, 31, 31, 64)       0         \n",
            " 2D)                                                             \n",
            "                                                                 \n",
            " dropout_1 (Dropout)         (None, 31, 31, 64)        0         \n",
            "                                                                 \n",
            " flatten (Flatten)           (None, 61504)             0         \n",
            "                                                                 \n",
            " dense (Dense)               (None, 256)               15745280  \n",
            "                                                                 \n",
            " dropout_2 (Dropout)         (None, 256)               0         \n",
            "                                                                 \n",
            " dense_1 (Dense)             (None, 8)                 2056      \n",
            "                                                                 \n",
            "=================================================================\n",
            "Total params: 15,803,656\n",
            "Trainable params: 15,803,656\n",
            "Non-trainable params: 0\n",
            "_________________________________________________________________\n"
          ]
        }
      ]
    },
    {
      "cell_type": "code",
      "source": [
        "model.compile('adam', 'categorical_crossentropy', ['accuracy'])\n",
        "\n",
        "model_path = './모델저장/poketmon_adam.h5'\n",
        "mc1 = ModelCheckpoint(model_path, moniter = 'val_loss', verbose = 1, save_best_only = True)\n",
        "es1 = EarlyStopping(patience = 15)"
      ],
      "metadata": {
        "id": "ZGhwd2n2ufJF"
      },
      "execution_count": null,
      "outputs": []
    },
    {
      "cell_type": "code",
      "source": [
        "hist1 = model.fit(\n",
        "    X_train, y_train, batch_size=32, epochs = 100, callbacks=[mc1, es1]\n",
        ")"
      ],
      "metadata": {
        "colab": {
          "base_uri": "https://localhost:8080/"
        },
        "outputId": "ebd9e4e7-6f69-43b7-adf3-54c451e00d74",
        "id": "V-m8shhiufJF"
      },
      "execution_count": null,
      "outputs": [
        {
          "output_type": "stream",
          "name": "stdout",
          "text": [
            "Epoch 1/100\n",
            "100/100 [==============================] - ETA: 0s - loss: 1.4036 - accuracy: 0.5236WARNING:tensorflow:Can save best model only with val_loss available, skipping.\n",
            "WARNING:tensorflow:Early stopping conditioned on metric `val_loss` which is not available. Available metrics are: loss,accuracy\n",
            "100/100 [==============================] - 15s 35ms/step - loss: 1.4036 - accuracy: 0.5236\n",
            "Epoch 2/100\n",
            " 99/100 [============================>.] - ETA: 0s - loss: 0.6985 - accuracy: 0.7683WARNING:tensorflow:Can save best model only with val_loss available, skipping.\n",
            "WARNING:tensorflow:Early stopping conditioned on metric `val_loss` which is not available. Available metrics are: loss,accuracy\n",
            "100/100 [==============================] - 3s 30ms/step - loss: 0.6982 - accuracy: 0.7684\n",
            "Epoch 3/100\n",
            " 99/100 [============================>.] - ETA: 0s - loss: 0.5327 - accuracy: 0.8229WARNING:tensorflow:Can save best model only with val_loss available, skipping.\n",
            "WARNING:tensorflow:Early stopping conditioned on metric `val_loss` which is not available. Available metrics are: loss,accuracy\n",
            "100/100 [==============================] - 3s 30ms/step - loss: 0.5310 - accuracy: 0.8237\n",
            "Epoch 4/100\n",
            " 99/100 [============================>.] - ETA: 0s - loss: 0.4234 - accuracy: 0.8580WARNING:tensorflow:Can save best model only with val_loss available, skipping.\n",
            "WARNING:tensorflow:Early stopping conditioned on metric `val_loss` which is not available. Available metrics are: loss,accuracy\n",
            "100/100 [==============================] - 3s 30ms/step - loss: 0.4252 - accuracy: 0.8581\n",
            "Epoch 5/100\n",
            " 99/100 [============================>.] - ETA: 0s - loss: 0.3723 - accuracy: 0.8797WARNING:tensorflow:Can save best model only with val_loss available, skipping.\n",
            "WARNING:tensorflow:Early stopping conditioned on metric `val_loss` which is not available. Available metrics are: loss,accuracy\n",
            "100/100 [==============================] - 3s 30ms/step - loss: 0.3712 - accuracy: 0.8803\n",
            "Epoch 6/100\n",
            " 99/100 [============================>.] - ETA: 0s - loss: 0.2778 - accuracy: 0.9081WARNING:tensorflow:Can save best model only with val_loss available, skipping.\n",
            "WARNING:tensorflow:Early stopping conditioned on metric `val_loss` which is not available. Available metrics are: loss,accuracy\n",
            "100/100 [==============================] - 3s 30ms/step - loss: 0.2767 - accuracy: 0.9084\n",
            "Epoch 7/100\n",
            " 99/100 [============================>.] - ETA: 0s - loss: 0.2549 - accuracy: 0.9217WARNING:tensorflow:Can save best model only with val_loss available, skipping.\n",
            "WARNING:tensorflow:Early stopping conditioned on metric `val_loss` which is not available. Available metrics are: loss,accuracy\n",
            "100/100 [==============================] - 3s 30ms/step - loss: 0.2535 - accuracy: 0.9222\n",
            "Epoch 8/100\n",
            " 99/100 [============================>.] - ETA: 0s - loss: 0.2204 - accuracy: 0.9274WARNING:tensorflow:Can save best model only with val_loss available, skipping.\n",
            "WARNING:tensorflow:Early stopping conditioned on metric `val_loss` which is not available. Available metrics are: loss,accuracy\n",
            "100/100 [==============================] - 3s 30ms/step - loss: 0.2216 - accuracy: 0.9272\n",
            "Epoch 9/100\n",
            " 99/100 [============================>.] - ETA: 0s - loss: 0.1673 - accuracy: 0.9482WARNING:tensorflow:Can save best model only with val_loss available, skipping.\n",
            "WARNING:tensorflow:Early stopping conditioned on metric `val_loss` which is not available. Available metrics are: loss,accuracy\n",
            "100/100 [==============================] - 3s 30ms/step - loss: 0.1675 - accuracy: 0.9481\n",
            "Epoch 10/100\n",
            " 99/100 [============================>.] - ETA: 0s - loss: 0.1498 - accuracy: 0.9539WARNING:tensorflow:Can save best model only with val_loss available, skipping.\n",
            "WARNING:tensorflow:Early stopping conditioned on metric `val_loss` which is not available. Available metrics are: loss,accuracy\n",
            "100/100 [==============================] - 3s 32ms/step - loss: 0.1494 - accuracy: 0.9537\n",
            "Epoch 11/100\n",
            " 99/100 [============================>.] - ETA: 0s - loss: 0.1251 - accuracy: 0.9583WARNING:tensorflow:Can save best model only with val_loss available, skipping.\n",
            "WARNING:tensorflow:Early stopping conditioned on metric `val_loss` which is not available. Available metrics are: loss,accuracy\n",
            "100/100 [==============================] - 3s 30ms/step - loss: 0.1242 - accuracy: 0.9587\n",
            "Epoch 12/100\n",
            " 99/100 [============================>.] - ETA: 0s - loss: 0.1005 - accuracy: 0.9669WARNING:tensorflow:Can save best model only with val_loss available, skipping.\n",
            "WARNING:tensorflow:Early stopping conditioned on metric `val_loss` which is not available. Available metrics are: loss,accuracy\n",
            "100/100 [==============================] - 3s 30ms/step - loss: 0.1018 - accuracy: 0.9666\n",
            "Epoch 13/100\n",
            " 99/100 [============================>.] - ETA: 0s - loss: 0.1287 - accuracy: 0.9564WARNING:tensorflow:Can save best model only with val_loss available, skipping.\n",
            "WARNING:tensorflow:Early stopping conditioned on metric `val_loss` which is not available. Available metrics are: loss,accuracy\n",
            "100/100 [==============================] - 3s 30ms/step - loss: 0.1277 - accuracy: 0.9569\n",
            "Epoch 14/100\n",
            " 99/100 [============================>.] - ETA: 0s - loss: 0.1197 - accuracy: 0.9609WARNING:tensorflow:Can save best model only with val_loss available, skipping.\n",
            "WARNING:tensorflow:Early stopping conditioned on metric `val_loss` which is not available. Available metrics are: loss,accuracy\n",
            "100/100 [==============================] - 3s 30ms/step - loss: 0.1249 - accuracy: 0.9600\n",
            "Epoch 15/100\n",
            " 99/100 [============================>.] - ETA: 0s - loss: 0.0797 - accuracy: 0.9713WARNING:tensorflow:Can save best model only with val_loss available, skipping.\n",
            "WARNING:tensorflow:Early stopping conditioned on metric `val_loss` which is not available. Available metrics are: loss,accuracy\n",
            "100/100 [==============================] - 3s 30ms/step - loss: 0.0794 - accuracy: 0.9716\n",
            "Epoch 16/100\n",
            " 99/100 [============================>.] - ETA: 0s - loss: 0.0762 - accuracy: 0.9716WARNING:tensorflow:Can save best model only with val_loss available, skipping.\n",
            "WARNING:tensorflow:Early stopping conditioned on metric `val_loss` which is not available. Available metrics are: loss,accuracy\n",
            "100/100 [==============================] - 3s 30ms/step - loss: 0.0757 - accuracy: 0.9719\n",
            "Epoch 17/100\n",
            " 99/100 [============================>.] - ETA: 0s - loss: 0.1127 - accuracy: 0.9577WARNING:tensorflow:Can save best model only with val_loss available, skipping.\n",
            "WARNING:tensorflow:Early stopping conditioned on metric `val_loss` which is not available. Available metrics are: loss,accuracy\n",
            "100/100 [==============================] - 3s 30ms/step - loss: 0.1122 - accuracy: 0.9581\n",
            "Epoch 18/100\n",
            " 99/100 [============================>.] - ETA: 0s - loss: 0.0716 - accuracy: 0.9773WARNING:tensorflow:Can save best model only with val_loss available, skipping.\n",
            "WARNING:tensorflow:Early stopping conditioned on metric `val_loss` which is not available. Available metrics are: loss,accuracy\n",
            "100/100 [==============================] - 3s 31ms/step - loss: 0.0714 - accuracy: 0.9772\n",
            "Epoch 19/100\n",
            " 99/100 [============================>.] - ETA: 0s - loss: 0.1043 - accuracy: 0.9662WARNING:tensorflow:Can save best model only with val_loss available, skipping.\n",
            "WARNING:tensorflow:Early stopping conditioned on metric `val_loss` which is not available. Available metrics are: loss,accuracy\n",
            "100/100 [==============================] - 3s 30ms/step - loss: 0.1037 - accuracy: 0.9662\n",
            "Epoch 20/100\n",
            " 99/100 [============================>.] - ETA: 0s - loss: 0.0650 - accuracy: 0.9789WARNING:tensorflow:Can save best model only with val_loss available, skipping.\n",
            "WARNING:tensorflow:Early stopping conditioned on metric `val_loss` which is not available. Available metrics are: loss,accuracy\n",
            "100/100 [==============================] - 3s 30ms/step - loss: 0.0648 - accuracy: 0.9791\n",
            "Epoch 21/100\n",
            " 99/100 [============================>.] - ETA: 0s - loss: 0.0519 - accuracy: 0.9858WARNING:tensorflow:Can save best model only with val_loss available, skipping.\n",
            "WARNING:tensorflow:Early stopping conditioned on metric `val_loss` which is not available. Available metrics are: loss,accuracy\n",
            "100/100 [==============================] - 3s 30ms/step - loss: 0.0517 - accuracy: 0.9859\n",
            "Epoch 22/100\n",
            " 99/100 [============================>.] - ETA: 0s - loss: 0.0748 - accuracy: 0.9770WARNING:tensorflow:Can save best model only with val_loss available, skipping.\n",
            "WARNING:tensorflow:Early stopping conditioned on metric `val_loss` which is not available. Available metrics are: loss,accuracy\n",
            "100/100 [==============================] - 3s 30ms/step - loss: 0.0741 - accuracy: 0.9772\n",
            "Epoch 23/100\n",
            " 99/100 [============================>.] - ETA: 0s - loss: 0.0515 - accuracy: 0.9852WARNING:tensorflow:Can save best model only with val_loss available, skipping.\n",
            "WARNING:tensorflow:Early stopping conditioned on metric `val_loss` which is not available. Available metrics are: loss,accuracy\n",
            "100/100 [==============================] - 3s 30ms/step - loss: 0.0512 - accuracy: 0.9853\n",
            "Epoch 24/100\n",
            " 99/100 [============================>.] - ETA: 0s - loss: 0.0347 - accuracy: 0.9883WARNING:tensorflow:Can save best model only with val_loss available, skipping.\n",
            "WARNING:tensorflow:Early stopping conditioned on metric `val_loss` which is not available. Available metrics are: loss,accuracy\n",
            "100/100 [==============================] - 3s 30ms/step - loss: 0.0348 - accuracy: 0.9881\n",
            "Epoch 25/100\n",
            " 99/100 [============================>.] - ETA: 0s - loss: 0.0507 - accuracy: 0.9811WARNING:tensorflow:Can save best model only with val_loss available, skipping.\n",
            "WARNING:tensorflow:Early stopping conditioned on metric `val_loss` which is not available. Available metrics are: loss,accuracy\n",
            "100/100 [==============================] - 3s 30ms/step - loss: 0.0508 - accuracy: 0.9812\n",
            "Epoch 26/100\n",
            " 99/100 [============================>.] - ETA: 0s - loss: 0.0872 - accuracy: 0.9713WARNING:tensorflow:Can save best model only with val_loss available, skipping.\n",
            "WARNING:tensorflow:Early stopping conditioned on metric `val_loss` which is not available. Available metrics are: loss,accuracy\n",
            "100/100 [==============================] - 3s 30ms/step - loss: 0.0903 - accuracy: 0.9700\n",
            "Epoch 27/100\n",
            " 99/100 [============================>.] - ETA: 0s - loss: 0.0373 - accuracy: 0.9886WARNING:tensorflow:Can save best model only with val_loss available, skipping.\n",
            "WARNING:tensorflow:Early stopping conditioned on metric `val_loss` which is not available. Available metrics are: loss,accuracy\n",
            "100/100 [==============================] - 3s 30ms/step - loss: 0.0371 - accuracy: 0.9887\n",
            "Epoch 28/100\n",
            " 99/100 [============================>.] - ETA: 0s - loss: 0.0831 - accuracy: 0.9757WARNING:tensorflow:Can save best model only with val_loss available, skipping.\n",
            "WARNING:tensorflow:Early stopping conditioned on metric `val_loss` which is not available. Available metrics are: loss,accuracy\n",
            "100/100 [==============================] - 3s 30ms/step - loss: 0.0825 - accuracy: 0.9759\n",
            "Epoch 29/100\n",
            " 99/100 [============================>.] - ETA: 0s - loss: 0.0430 - accuracy: 0.9880WARNING:tensorflow:Can save best model only with val_loss available, skipping.\n",
            "WARNING:tensorflow:Early stopping conditioned on metric `val_loss` which is not available. Available metrics are: loss,accuracy\n",
            "100/100 [==============================] - 3s 30ms/step - loss: 0.0429 - accuracy: 0.9881\n",
            "Epoch 30/100\n",
            " 99/100 [============================>.] - ETA: 0s - loss: 0.0391 - accuracy: 0.9877WARNING:tensorflow:Can save best model only with val_loss available, skipping.\n",
            "WARNING:tensorflow:Early stopping conditioned on metric `val_loss` which is not available. Available metrics are: loss,accuracy\n",
            "100/100 [==============================] - 3s 30ms/step - loss: 0.0388 - accuracy: 0.9878\n",
            "Epoch 31/100\n",
            " 99/100 [============================>.] - ETA: 0s - loss: 0.0398 - accuracy: 0.9871WARNING:tensorflow:Can save best model only with val_loss available, skipping.\n",
            "WARNING:tensorflow:Early stopping conditioned on metric `val_loss` which is not available. Available metrics are: loss,accuracy\n",
            "100/100 [==============================] - 3s 31ms/step - loss: 0.0396 - accuracy: 0.9872\n",
            "Epoch 32/100\n",
            "100/100 [==============================] - ETA: 0s - loss: 0.0324 - accuracy: 0.9900WARNING:tensorflow:Can save best model only with val_loss available, skipping.\n",
            "WARNING:tensorflow:Early stopping conditioned on metric `val_loss` which is not available. Available metrics are: loss,accuracy\n",
            "100/100 [==============================] - 3s 32ms/step - loss: 0.0324 - accuracy: 0.9900\n",
            "Epoch 33/100\n",
            " 99/100 [============================>.] - ETA: 0s - loss: 0.0367 - accuracy: 0.9864WARNING:tensorflow:Can save best model only with val_loss available, skipping.\n",
            "WARNING:tensorflow:Early stopping conditioned on metric `val_loss` which is not available. Available metrics are: loss,accuracy\n",
            "100/100 [==============================] - 3s 31ms/step - loss: 0.0365 - accuracy: 0.9866\n",
            "Epoch 34/100\n",
            " 99/100 [============================>.] - ETA: 0s - loss: 0.0170 - accuracy: 0.9956WARNING:tensorflow:Can save best model only with val_loss available, skipping.\n",
            "WARNING:tensorflow:Early stopping conditioned on metric `val_loss` which is not available. Available metrics are: loss,accuracy\n",
            "100/100 [==============================] - 3s 31ms/step - loss: 0.0168 - accuracy: 0.9956\n",
            "Epoch 35/100\n",
            " 99/100 [============================>.] - ETA: 0s - loss: 0.0403 - accuracy: 0.9877WARNING:tensorflow:Can save best model only with val_loss available, skipping.\n",
            "WARNING:tensorflow:Early stopping conditioned on metric `val_loss` which is not available. Available metrics are: loss,accuracy\n",
            "100/100 [==============================] - 3s 30ms/step - loss: 0.0412 - accuracy: 0.9875\n",
            "Epoch 36/100\n",
            " 99/100 [============================>.] - ETA: 0s - loss: 0.0710 - accuracy: 0.9792WARNING:tensorflow:Can save best model only with val_loss available, skipping.\n",
            "WARNING:tensorflow:Early stopping conditioned on metric `val_loss` which is not available. Available metrics are: loss,accuracy\n",
            "100/100 [==============================] - 3s 33ms/step - loss: 0.0708 - accuracy: 0.9791\n",
            "Epoch 37/100\n",
            "100/100 [==============================] - ETA: 0s - loss: 0.0348 - accuracy: 0.9900WARNING:tensorflow:Can save best model only with val_loss available, skipping.\n",
            "WARNING:tensorflow:Early stopping conditioned on metric `val_loss` which is not available. Available metrics are: loss,accuracy\n",
            "100/100 [==============================] - 3s 31ms/step - loss: 0.0348 - accuracy: 0.9900\n",
            "Epoch 38/100\n",
            " 99/100 [============================>.] - ETA: 0s - loss: 0.0257 - accuracy: 0.9915WARNING:tensorflow:Can save best model only with val_loss available, skipping.\n",
            "WARNING:tensorflow:Early stopping conditioned on metric `val_loss` which is not available. Available metrics are: loss,accuracy\n",
            "100/100 [==============================] - 3s 30ms/step - loss: 0.0255 - accuracy: 0.9916\n",
            "Epoch 39/100\n",
            " 99/100 [============================>.] - ETA: 0s - loss: 0.0320 - accuracy: 0.9890WARNING:tensorflow:Can save best model only with val_loss available, skipping.\n",
            "WARNING:tensorflow:Early stopping conditioned on metric `val_loss` which is not available. Available metrics are: loss,accuracy\n",
            "100/100 [==============================] - 3s 31ms/step - loss: 0.0317 - accuracy: 0.9891\n",
            "Epoch 40/100\n",
            " 99/100 [============================>.] - ETA: 0s - loss: 0.0191 - accuracy: 0.9937WARNING:tensorflow:Can save best model only with val_loss available, skipping.\n",
            "WARNING:tensorflow:Early stopping conditioned on metric `val_loss` which is not available. Available metrics are: loss,accuracy\n",
            "100/100 [==============================] - 3s 31ms/step - loss: 0.0195 - accuracy: 0.9934\n",
            "Epoch 41/100\n",
            " 99/100 [============================>.] - ETA: 0s - loss: 0.0338 - accuracy: 0.9902WARNING:tensorflow:Can save best model only with val_loss available, skipping.\n",
            "WARNING:tensorflow:Early stopping conditioned on metric `val_loss` which is not available. Available metrics are: loss,accuracy\n",
            "100/100 [==============================] - 3s 31ms/step - loss: 0.0341 - accuracy: 0.9900\n",
            "Epoch 42/100\n",
            " 99/100 [============================>.] - ETA: 0s - loss: 0.0697 - accuracy: 0.9785WARNING:tensorflow:Can save best model only with val_loss available, skipping.\n",
            "WARNING:tensorflow:Early stopping conditioned on metric `val_loss` which is not available. Available metrics are: loss,accuracy\n",
            "100/100 [==============================] - 3s 31ms/step - loss: 0.0695 - accuracy: 0.9787\n",
            "Epoch 43/100\n",
            " 99/100 [============================>.] - ETA: 0s - loss: 0.0431 - accuracy: 0.9855WARNING:tensorflow:Can save best model only with val_loss available, skipping.\n",
            "WARNING:tensorflow:Early stopping conditioned on metric `val_loss` which is not available. Available metrics are: loss,accuracy\n",
            "100/100 [==============================] - 3s 31ms/step - loss: 0.0428 - accuracy: 0.9856\n",
            "Epoch 44/100\n",
            " 99/100 [============================>.] - ETA: 0s - loss: 0.0525 - accuracy: 0.9836WARNING:tensorflow:Can save best model only with val_loss available, skipping.\n",
            "WARNING:tensorflow:Early stopping conditioned on metric `val_loss` which is not available. Available metrics are: loss,accuracy\n",
            "100/100 [==============================] - 3s 31ms/step - loss: 0.0542 - accuracy: 0.9831\n",
            "Epoch 45/100\n",
            " 99/100 [============================>.] - ETA: 0s - loss: 0.0376 - accuracy: 0.9902WARNING:tensorflow:Can save best model only with val_loss available, skipping.\n",
            "WARNING:tensorflow:Early stopping conditioned on metric `val_loss` which is not available. Available metrics are: loss,accuracy\n",
            "100/100 [==============================] - 3s 31ms/step - loss: 0.0374 - accuracy: 0.9903\n",
            "Epoch 46/100\n",
            " 99/100 [============================>.] - ETA: 0s - loss: 0.0239 - accuracy: 0.9937WARNING:tensorflow:Can save best model only with val_loss available, skipping.\n",
            "WARNING:tensorflow:Early stopping conditioned on metric `val_loss` which is not available. Available metrics are: loss,accuracy\n",
            "100/100 [==============================] - 3s 31ms/step - loss: 0.0238 - accuracy: 0.9937\n",
            "Epoch 47/100\n",
            " 99/100 [============================>.] - ETA: 0s - loss: 0.0311 - accuracy: 0.9899WARNING:tensorflow:Can save best model only with val_loss available, skipping.\n",
            "WARNING:tensorflow:Early stopping conditioned on metric `val_loss` which is not available. Available metrics are: loss,accuracy\n",
            "100/100 [==============================] - 3s 30ms/step - loss: 0.0308 - accuracy: 0.9900\n",
            "Epoch 48/100\n",
            " 99/100 [============================>.] - ETA: 0s - loss: 0.0229 - accuracy: 0.9937WARNING:tensorflow:Can save best model only with val_loss available, skipping.\n",
            "WARNING:tensorflow:Early stopping conditioned on metric `val_loss` which is not available. Available metrics are: loss,accuracy\n",
            "100/100 [==============================] - 3s 30ms/step - loss: 0.0227 - accuracy: 0.9937\n",
            "Epoch 49/100\n",
            " 99/100 [============================>.] - ETA: 0s - loss: 0.0129 - accuracy: 0.9965WARNING:tensorflow:Can save best model only with val_loss available, skipping.\n",
            "WARNING:tensorflow:Early stopping conditioned on metric `val_loss` which is not available. Available metrics are: loss,accuracy\n",
            "100/100 [==============================] - 3s 30ms/step - loss: 0.0131 - accuracy: 0.9962\n",
            "Epoch 50/100\n",
            " 99/100 [============================>.] - ETA: 0s - loss: 0.0092 - accuracy: 0.9978WARNING:tensorflow:Can save best model only with val_loss available, skipping.\n",
            "WARNING:tensorflow:Early stopping conditioned on metric `val_loss` which is not available. Available metrics are: loss,accuracy\n",
            "100/100 [==============================] - 3s 32ms/step - loss: 0.0092 - accuracy: 0.9978\n",
            "Epoch 51/100\n",
            " 99/100 [============================>.] - ETA: 0s - loss: 0.0318 - accuracy: 0.9908WARNING:tensorflow:Can save best model only with val_loss available, skipping.\n",
            "WARNING:tensorflow:Early stopping conditioned on metric `val_loss` which is not available. Available metrics are: loss,accuracy\n",
            "100/100 [==============================] - 3s 32ms/step - loss: 0.0315 - accuracy: 0.9909\n",
            "Epoch 52/100\n",
            " 99/100 [============================>.] - ETA: 0s - loss: 0.0152 - accuracy: 0.9965WARNING:tensorflow:Can save best model only with val_loss available, skipping.\n",
            "WARNING:tensorflow:Early stopping conditioned on metric `val_loss` which is not available. Available metrics are: loss,accuracy\n",
            "100/100 [==============================] - 3s 31ms/step - loss: 0.0151 - accuracy: 0.9966\n",
            "Epoch 53/100\n",
            " 99/100 [============================>.] - ETA: 0s - loss: 0.0212 - accuracy: 0.9927WARNING:tensorflow:Can save best model only with val_loss available, skipping.\n",
            "WARNING:tensorflow:Early stopping conditioned on metric `val_loss` which is not available. Available metrics are: loss,accuracy\n",
            "100/100 [==============================] - 3s 30ms/step - loss: 0.0210 - accuracy: 0.9928\n",
            "Epoch 54/100\n",
            " 99/100 [============================>.] - ETA: 0s - loss: 0.0211 - accuracy: 0.9943WARNING:tensorflow:Can save best model only with val_loss available, skipping.\n",
            "WARNING:tensorflow:Early stopping conditioned on metric `val_loss` which is not available. Available metrics are: loss,accuracy\n",
            "100/100 [==============================] - 3s 31ms/step - loss: 0.0209 - accuracy: 0.9944\n",
            "Epoch 55/100\n",
            " 99/100 [============================>.] - ETA: 0s - loss: 0.0245 - accuracy: 0.9912WARNING:tensorflow:Can save best model only with val_loss available, skipping.\n",
            "WARNING:tensorflow:Early stopping conditioned on metric `val_loss` which is not available. Available metrics are: loss,accuracy\n",
            "100/100 [==============================] - 3s 31ms/step - loss: 0.0243 - accuracy: 0.9912\n",
            "Epoch 56/100\n",
            " 99/100 [============================>.] - ETA: 0s - loss: 0.0179 - accuracy: 0.9946WARNING:tensorflow:Can save best model only with val_loss available, skipping.\n",
            "WARNING:tensorflow:Early stopping conditioned on metric `val_loss` which is not available. Available metrics are: loss,accuracy\n",
            "100/100 [==============================] - 3s 31ms/step - loss: 0.0177 - accuracy: 0.9947\n",
            "Epoch 57/100\n",
            " 99/100 [============================>.] - ETA: 0s - loss: 0.0265 - accuracy: 0.9915WARNING:tensorflow:Can save best model only with val_loss available, skipping.\n",
            "WARNING:tensorflow:Early stopping conditioned on metric `val_loss` which is not available. Available metrics are: loss,accuracy\n",
            "100/100 [==============================] - 3s 30ms/step - loss: 0.0262 - accuracy: 0.9916\n",
            "Epoch 58/100\n",
            " 99/100 [============================>.] - ETA: 0s - loss: 0.0086 - accuracy: 0.9968WARNING:tensorflow:Can save best model only with val_loss available, skipping.\n",
            "WARNING:tensorflow:Early stopping conditioned on metric `val_loss` which is not available. Available metrics are: loss,accuracy\n",
            "100/100 [==============================] - 3s 30ms/step - loss: 0.0087 - accuracy: 0.9969\n",
            "Epoch 59/100\n",
            " 99/100 [============================>.] - ETA: 0s - loss: 0.0651 - accuracy: 0.9842WARNING:tensorflow:Can save best model only with val_loss available, skipping.\n",
            "WARNING:tensorflow:Early stopping conditioned on metric `val_loss` which is not available. Available metrics are: loss,accuracy\n",
            "100/100 [==============================] - 3s 31ms/step - loss: 0.0685 - accuracy: 0.9837\n",
            "Epoch 60/100\n",
            " 99/100 [============================>.] - ETA: 0s - loss: 0.0608 - accuracy: 0.9804WARNING:tensorflow:Can save best model only with val_loss available, skipping.\n",
            "WARNING:tensorflow:Early stopping conditioned on metric `val_loss` which is not available. Available metrics are: loss,accuracy\n",
            "100/100 [==============================] - 3s 31ms/step - loss: 0.0603 - accuracy: 0.9806\n",
            "Epoch 61/100\n",
            " 99/100 [============================>.] - ETA: 0s - loss: 0.0292 - accuracy: 0.9890WARNING:tensorflow:Can save best model only with val_loss available, skipping.\n",
            "WARNING:tensorflow:Early stopping conditioned on metric `val_loss` which is not available. Available metrics are: loss,accuracy\n",
            "100/100 [==============================] - 3s 31ms/step - loss: 0.0289 - accuracy: 0.9891\n",
            "Epoch 62/100\n",
            " 99/100 [============================>.] - ETA: 0s - loss: 0.0435 - accuracy: 0.9886WARNING:tensorflow:Can save best model only with val_loss available, skipping.\n",
            "WARNING:tensorflow:Early stopping conditioned on metric `val_loss` which is not available. Available metrics are: loss,accuracy\n",
            "100/100 [==============================] - 3s 30ms/step - loss: 0.0431 - accuracy: 0.9887\n",
            "Epoch 63/100\n",
            " 99/100 [============================>.] - ETA: 0s - loss: 0.0185 - accuracy: 0.9949WARNING:tensorflow:Can save best model only with val_loss available, skipping.\n",
            "WARNING:tensorflow:Early stopping conditioned on metric `val_loss` which is not available. Available metrics are: loss,accuracy\n",
            "100/100 [==============================] - 3s 30ms/step - loss: 0.0183 - accuracy: 0.9950\n",
            "Epoch 64/100\n",
            " 99/100 [============================>.] - ETA: 0s - loss: 0.0110 - accuracy: 0.9956WARNING:tensorflow:Can save best model only with val_loss available, skipping.\n",
            "WARNING:tensorflow:Early stopping conditioned on metric `val_loss` which is not available. Available metrics are: loss,accuracy\n",
            "100/100 [==============================] - 3s 31ms/step - loss: 0.0111 - accuracy: 0.9956\n",
            "Epoch 65/100\n",
            " 99/100 [============================>.] - ETA: 0s - loss: 0.0179 - accuracy: 0.9943WARNING:tensorflow:Can save best model only with val_loss available, skipping.\n",
            "WARNING:tensorflow:Early stopping conditioned on metric `val_loss` which is not available. Available metrics are: loss,accuracy\n",
            "100/100 [==============================] - 3s 30ms/step - loss: 0.0177 - accuracy: 0.9944\n",
            "Epoch 66/100\n",
            " 99/100 [============================>.] - ETA: 0s - loss: 0.0189 - accuracy: 0.9962WARNING:tensorflow:Can save best model only with val_loss available, skipping.\n",
            "WARNING:tensorflow:Early stopping conditioned on metric `val_loss` which is not available. Available metrics are: loss,accuracy\n",
            "100/100 [==============================] - 3s 30ms/step - loss: 0.0188 - accuracy: 0.9962\n",
            "Epoch 67/100\n",
            " 99/100 [============================>.] - ETA: 0s - loss: 0.0141 - accuracy: 0.9968WARNING:tensorflow:Can save best model only with val_loss available, skipping.\n",
            "WARNING:tensorflow:Early stopping conditioned on metric `val_loss` which is not available. Available metrics are: loss,accuracy\n",
            "100/100 [==============================] - 3s 31ms/step - loss: 0.0139 - accuracy: 0.9969\n",
            "Epoch 68/100\n",
            " 99/100 [============================>.] - ETA: 0s - loss: 0.0084 - accuracy: 0.9975WARNING:tensorflow:Can save best model only with val_loss available, skipping.\n",
            "WARNING:tensorflow:Early stopping conditioned on metric `val_loss` which is not available. Available metrics are: loss,accuracy\n",
            "100/100 [==============================] - 3s 30ms/step - loss: 0.0084 - accuracy: 0.9975\n",
            "Epoch 69/100\n",
            " 99/100 [============================>.] - ETA: 0s - loss: 0.0248 - accuracy: 0.9924WARNING:tensorflow:Can save best model only with val_loss available, skipping.\n",
            "WARNING:tensorflow:Early stopping conditioned on metric `val_loss` which is not available. Available metrics are: loss,accuracy\n",
            "100/100 [==============================] - 3s 31ms/step - loss: 0.0245 - accuracy: 0.9925\n",
            "Epoch 70/100\n",
            " 99/100 [============================>.] - ETA: 0s - loss: 0.0214 - accuracy: 0.9943WARNING:tensorflow:Can save best model only with val_loss available, skipping.\n",
            "WARNING:tensorflow:Early stopping conditioned on metric `val_loss` which is not available. Available metrics are: loss,accuracy\n",
            "100/100 [==============================] - 3s 31ms/step - loss: 0.0212 - accuracy: 0.9944\n",
            "Epoch 71/100\n",
            " 99/100 [============================>.] - ETA: 0s - loss: 0.0527 - accuracy: 0.9877WARNING:tensorflow:Can save best model only with val_loss available, skipping.\n",
            "WARNING:tensorflow:Early stopping conditioned on metric `val_loss` which is not available. Available metrics are: loss,accuracy\n",
            "100/100 [==============================] - 3s 30ms/step - loss: 0.0522 - accuracy: 0.9878\n",
            "Epoch 72/100\n",
            " 99/100 [============================>.] - ETA: 0s - loss: 0.0228 - accuracy: 0.9918WARNING:tensorflow:Can save best model only with val_loss available, skipping.\n",
            "WARNING:tensorflow:Early stopping conditioned on metric `val_loss` which is not available. Available metrics are: loss,accuracy\n",
            "100/100 [==============================] - 3s 31ms/step - loss: 0.0227 - accuracy: 0.9919\n",
            "Epoch 73/100\n",
            " 99/100 [============================>.] - ETA: 0s - loss: 0.0469 - accuracy: 0.9902WARNING:tensorflow:Can save best model only with val_loss available, skipping.\n",
            "WARNING:tensorflow:Early stopping conditioned on metric `val_loss` which is not available. Available metrics are: loss,accuracy\n",
            "100/100 [==============================] - 3s 31ms/step - loss: 0.0465 - accuracy: 0.9903\n",
            "Epoch 74/100\n",
            " 99/100 [============================>.] - ETA: 0s - loss: 0.0184 - accuracy: 0.9946WARNING:tensorflow:Can save best model only with val_loss available, skipping.\n",
            "WARNING:tensorflow:Early stopping conditioned on metric `val_loss` which is not available. Available metrics are: loss,accuracy\n",
            "100/100 [==============================] - 3s 30ms/step - loss: 0.0182 - accuracy: 0.9947\n",
            "Epoch 75/100\n",
            " 99/100 [============================>.] - ETA: 0s - loss: 0.0140 - accuracy: 0.9956WARNING:tensorflow:Can save best model only with val_loss available, skipping.\n",
            "WARNING:tensorflow:Early stopping conditioned on metric `val_loss` which is not available. Available metrics are: loss,accuracy\n",
            "100/100 [==============================] - 3s 30ms/step - loss: 0.0138 - accuracy: 0.9956\n",
            "Epoch 76/100\n",
            " 99/100 [============================>.] - ETA: 0s - loss: 0.0270 - accuracy: 0.9937WARNING:tensorflow:Can save best model only with val_loss available, skipping.\n",
            "WARNING:tensorflow:Early stopping conditioned on metric `val_loss` which is not available. Available metrics are: loss,accuracy\n",
            "100/100 [==============================] - 3s 31ms/step - loss: 0.0267 - accuracy: 0.9937\n",
            "Epoch 77/100\n",
            " 99/100 [============================>.] - ETA: 0s - loss: 0.0252 - accuracy: 0.9902WARNING:tensorflow:Can save best model only with val_loss available, skipping.\n",
            "WARNING:tensorflow:Early stopping conditioned on metric `val_loss` which is not available. Available metrics are: loss,accuracy\n",
            "100/100 [==============================] - 3s 30ms/step - loss: 0.0255 - accuracy: 0.9900\n",
            "Epoch 78/100\n",
            " 99/100 [============================>.] - ETA: 0s - loss: 0.0325 - accuracy: 0.9946WARNING:tensorflow:Can save best model only with val_loss available, skipping.\n",
            "WARNING:tensorflow:Early stopping conditioned on metric `val_loss` which is not available. Available metrics are: loss,accuracy\n",
            "100/100 [==============================] - 3s 30ms/step - loss: 0.0322 - accuracy: 0.9947\n",
            "Epoch 79/100\n",
            " 99/100 [============================>.] - ETA: 0s - loss: 0.0507 - accuracy: 0.9912WARNING:tensorflow:Can save best model only with val_loss available, skipping.\n",
            "WARNING:tensorflow:Early stopping conditioned on metric `val_loss` which is not available. Available metrics are: loss,accuracy\n",
            "100/100 [==============================] - 3s 31ms/step - loss: 0.0509 - accuracy: 0.9909\n",
            "Epoch 80/100\n",
            " 99/100 [============================>.] - ETA: 0s - loss: 0.0261 - accuracy: 0.9931WARNING:tensorflow:Can save best model only with val_loss available, skipping.\n",
            "WARNING:tensorflow:Early stopping conditioned on metric `val_loss` which is not available. Available metrics are: loss,accuracy\n",
            "100/100 [==============================] - 3s 31ms/step - loss: 0.0258 - accuracy: 0.9931\n",
            "Epoch 81/100\n",
            " 99/100 [============================>.] - ETA: 0s - loss: 0.0385 - accuracy: 0.9893WARNING:tensorflow:Can save best model only with val_loss available, skipping.\n",
            "WARNING:tensorflow:Early stopping conditioned on metric `val_loss` which is not available. Available metrics are: loss,accuracy\n",
            "100/100 [==============================] - 3s 31ms/step - loss: 0.0381 - accuracy: 0.9894\n",
            "Epoch 82/100\n",
            " 99/100 [============================>.] - ETA: 0s - loss: 0.0304 - accuracy: 0.9927WARNING:tensorflow:Can save best model only with val_loss available, skipping.\n",
            "WARNING:tensorflow:Early stopping conditioned on metric `val_loss` which is not available. Available metrics are: loss,accuracy\n",
            "100/100 [==============================] - 3s 31ms/step - loss: 0.0301 - accuracy: 0.9928\n",
            "Epoch 83/100\n",
            " 99/100 [============================>.] - ETA: 0s - loss: 0.0355 - accuracy: 0.9905WARNING:tensorflow:Can save best model only with val_loss available, skipping.\n",
            "WARNING:tensorflow:Early stopping conditioned on metric `val_loss` which is not available. Available metrics are: loss,accuracy\n",
            "100/100 [==============================] - 3s 31ms/step - loss: 0.0371 - accuracy: 0.9903\n",
            "Epoch 84/100\n",
            " 99/100 [============================>.] - ETA: 0s - loss: 0.0093 - accuracy: 0.9972WARNING:tensorflow:Can save best model only with val_loss available, skipping.\n",
            "WARNING:tensorflow:Early stopping conditioned on metric `val_loss` which is not available. Available metrics are: loss,accuracy\n",
            "100/100 [==============================] - 3s 31ms/step - loss: 0.0092 - accuracy: 0.9972\n",
            "Epoch 85/100\n",
            " 99/100 [============================>.] - ETA: 0s - loss: 0.0160 - accuracy: 0.9959WARNING:tensorflow:Can save best model only with val_loss available, skipping.\n",
            "WARNING:tensorflow:Early stopping conditioned on metric `val_loss` which is not available. Available metrics are: loss,accuracy\n",
            "100/100 [==============================] - 3s 31ms/step - loss: 0.0160 - accuracy: 0.9959\n",
            "Epoch 86/100\n",
            " 99/100 [============================>.] - ETA: 0s - loss: 0.0276 - accuracy: 0.9921WARNING:tensorflow:Can save best model only with val_loss available, skipping.\n",
            "WARNING:tensorflow:Early stopping conditioned on metric `val_loss` which is not available. Available metrics are: loss,accuracy\n",
            "100/100 [==============================] - 3s 30ms/step - loss: 0.0274 - accuracy: 0.9922\n",
            "Epoch 87/100\n",
            " 99/100 [============================>.] - ETA: 0s - loss: 0.0318 - accuracy: 0.9937WARNING:tensorflow:Can save best model only with val_loss available, skipping.\n",
            "WARNING:tensorflow:Early stopping conditioned on metric `val_loss` which is not available. Available metrics are: loss,accuracy\n",
            "100/100 [==============================] - 3s 31ms/step - loss: 0.0315 - accuracy: 0.9937\n",
            "Epoch 88/100\n",
            " 99/100 [============================>.] - ETA: 0s - loss: 0.0189 - accuracy: 0.9949WARNING:tensorflow:Can save best model only with val_loss available, skipping.\n",
            "WARNING:tensorflow:Early stopping conditioned on metric `val_loss` which is not available. Available metrics are: loss,accuracy\n",
            "100/100 [==============================] - 3s 30ms/step - loss: 0.0193 - accuracy: 0.9947\n",
            "Epoch 89/100\n",
            " 99/100 [============================>.] - ETA: 0s - loss: 0.0112 - accuracy: 0.9972WARNING:tensorflow:Can save best model only with val_loss available, skipping.\n",
            "WARNING:tensorflow:Early stopping conditioned on metric `val_loss` which is not available. Available metrics are: loss,accuracy\n",
            "100/100 [==============================] - 3s 31ms/step - loss: 0.0111 - accuracy: 0.9972\n",
            "Epoch 90/100\n",
            " 99/100 [============================>.] - ETA: 0s - loss: 0.0145 - accuracy: 0.9962WARNING:tensorflow:Can save best model only with val_loss available, skipping.\n",
            "WARNING:tensorflow:Early stopping conditioned on metric `val_loss` which is not available. Available metrics are: loss,accuracy\n",
            "100/100 [==============================] - 3s 31ms/step - loss: 0.0143 - accuracy: 0.9962\n",
            "Epoch 91/100\n",
            " 99/100 [============================>.] - ETA: 0s - loss: 0.0113 - accuracy: 0.9965WARNING:tensorflow:Can save best model only with val_loss available, skipping.\n",
            "WARNING:tensorflow:Early stopping conditioned on metric `val_loss` which is not available. Available metrics are: loss,accuracy\n",
            "100/100 [==============================] - 3s 31ms/step - loss: 0.0112 - accuracy: 0.9966\n",
            "Epoch 92/100\n",
            " 99/100 [============================>.] - ETA: 0s - loss: 0.0419 - accuracy: 0.9905WARNING:tensorflow:Can save best model only with val_loss available, skipping.\n",
            "WARNING:tensorflow:Early stopping conditioned on metric `val_loss` which is not available. Available metrics are: loss,accuracy\n",
            "100/100 [==============================] - 3s 30ms/step - loss: 0.0417 - accuracy: 0.9903\n",
            "Epoch 93/100\n",
            " 99/100 [============================>.] - ETA: 0s - loss: 0.0241 - accuracy: 0.9927WARNING:tensorflow:Can save best model only with val_loss available, skipping.\n",
            "WARNING:tensorflow:Early stopping conditioned on metric `val_loss` which is not available. Available metrics are: loss,accuracy\n",
            "100/100 [==============================] - 3s 31ms/step - loss: 0.0239 - accuracy: 0.9928\n",
            "Epoch 94/100\n",
            " 99/100 [============================>.] - ETA: 0s - loss: 0.0049 - accuracy: 0.9978WARNING:tensorflow:Can save best model only with val_loss available, skipping.\n",
            "WARNING:tensorflow:Early stopping conditioned on metric `val_loss` which is not available. Available metrics are: loss,accuracy\n",
            "100/100 [==============================] - 3s 30ms/step - loss: 0.0049 - accuracy: 0.9978\n",
            "Epoch 95/100\n",
            " 99/100 [============================>.] - ETA: 0s - loss: 0.0180 - accuracy: 0.9972WARNING:tensorflow:Can save best model only with val_loss available, skipping.\n",
            "WARNING:tensorflow:Early stopping conditioned on metric `val_loss` which is not available. Available metrics are: loss,accuracy\n",
            "100/100 [==============================] - 3s 30ms/step - loss: 0.0202 - accuracy: 0.9969\n",
            "Epoch 96/100\n",
            " 99/100 [============================>.] - ETA: 0s - loss: 0.0340 - accuracy: 0.9915WARNING:tensorflow:Can save best model only with val_loss available, skipping.\n",
            "WARNING:tensorflow:Early stopping conditioned on metric `val_loss` which is not available. Available metrics are: loss,accuracy\n",
            "100/100 [==============================] - 3s 31ms/step - loss: 0.0337 - accuracy: 0.9916\n",
            "Epoch 97/100\n",
            " 99/100 [============================>.] - ETA: 0s - loss: 0.0244 - accuracy: 0.9956WARNING:tensorflow:Can save best model only with val_loss available, skipping.\n",
            "WARNING:tensorflow:Early stopping conditioned on metric `val_loss` which is not available. Available metrics are: loss,accuracy\n",
            "100/100 [==============================] - 3s 31ms/step - loss: 0.0262 - accuracy: 0.9953\n",
            "Epoch 98/100\n",
            " 99/100 [============================>.] - ETA: 0s - loss: 0.0182 - accuracy: 0.9953WARNING:tensorflow:Can save best model only with val_loss available, skipping.\n",
            "WARNING:tensorflow:Early stopping conditioned on metric `val_loss` which is not available. Available metrics are: loss,accuracy\n",
            "100/100 [==============================] - 3s 31ms/step - loss: 0.0180 - accuracy: 0.9953\n",
            "Epoch 99/100\n",
            " 99/100 [============================>.] - ETA: 0s - loss: 0.0191 - accuracy: 0.9959WARNING:tensorflow:Can save best model only with val_loss available, skipping.\n",
            "WARNING:tensorflow:Early stopping conditioned on metric `val_loss` which is not available. Available metrics are: loss,accuracy\n",
            "100/100 [==============================] - 3s 31ms/step - loss: 0.0189 - accuracy: 0.9959\n",
            "Epoch 100/100\n",
            " 99/100 [============================>.] - ETA: 0s - loss: 0.0482 - accuracy: 0.9883WARNING:tensorflow:Can save best model only with val_loss available, skipping.\n",
            "WARNING:tensorflow:Early stopping conditioned on metric `val_loss` which is not available. Available metrics are: loss,accuracy\n",
            "100/100 [==============================] - 3s 31ms/step - loss: 0.0478 - accuracy: 0.9884\n"
          ]
        }
      ]
    },
    {
      "cell_type": "code",
      "source": [
        "best_model = load_model(model_path)\n",
        "best_model.evaluate(X_test, y_test)"
      ],
      "metadata": {
        "colab": {
          "base_uri": "https://localhost:8080/",
          "height": 345
        },
        "id": "KDo7uFTeuWj1",
        "outputId": "17f479e7-d3ce-43a8-a533-6b16cbf08693"
      },
      "execution_count": null,
      "outputs": [
        {
          "output_type": "error",
          "ename": "OSError",
          "evalue": "ignored",
          "traceback": [
            "\u001b[0;31m---------------------------------------------------------------------------\u001b[0m",
            "\u001b[0;31mOSError\u001b[0m                                   Traceback (most recent call last)",
            "\u001b[0;32m<ipython-input-16-7d9981e9d5b6>\u001b[0m in \u001b[0;36m<module>\u001b[0;34m()\u001b[0m\n\u001b[0;32m----> 1\u001b[0;31m \u001b[0mbest_model\u001b[0m \u001b[0;34m=\u001b[0m \u001b[0mload_model\u001b[0m\u001b[0;34m(\u001b[0m\u001b[0mmodel_path\u001b[0m\u001b[0;34m)\u001b[0m\u001b[0;34m\u001b[0m\u001b[0;34m\u001b[0m\u001b[0m\n\u001b[0m\u001b[1;32m      2\u001b[0m \u001b[0mbest_model\u001b[0m\u001b[0;34m.\u001b[0m\u001b[0mevaluate\u001b[0m\u001b[0;34m(\u001b[0m\u001b[0mX_test\u001b[0m\u001b[0;34m,\u001b[0m \u001b[0my_test\u001b[0m\u001b[0;34m)\u001b[0m\u001b[0;34m\u001b[0m\u001b[0;34m\u001b[0m\u001b[0m\n",
            "\u001b[0;32m/usr/local/lib/python3.7/dist-packages/keras/utils/traceback_utils.py\u001b[0m in \u001b[0;36merror_handler\u001b[0;34m(*args, **kwargs)\u001b[0m\n\u001b[1;32m     65\u001b[0m     \u001b[0;32mexcept\u001b[0m \u001b[0mException\u001b[0m \u001b[0;32mas\u001b[0m \u001b[0me\u001b[0m\u001b[0;34m:\u001b[0m  \u001b[0;31m# pylint: disable=broad-except\u001b[0m\u001b[0;34m\u001b[0m\u001b[0;34m\u001b[0m\u001b[0m\n\u001b[1;32m     66\u001b[0m       \u001b[0mfiltered_tb\u001b[0m \u001b[0;34m=\u001b[0m \u001b[0m_process_traceback_frames\u001b[0m\u001b[0;34m(\u001b[0m\u001b[0me\u001b[0m\u001b[0;34m.\u001b[0m\u001b[0m__traceback__\u001b[0m\u001b[0;34m)\u001b[0m\u001b[0;34m\u001b[0m\u001b[0;34m\u001b[0m\u001b[0m\n\u001b[0;32m---> 67\u001b[0;31m       \u001b[0;32mraise\u001b[0m \u001b[0me\u001b[0m\u001b[0;34m.\u001b[0m\u001b[0mwith_traceback\u001b[0m\u001b[0;34m(\u001b[0m\u001b[0mfiltered_tb\u001b[0m\u001b[0;34m)\u001b[0m \u001b[0;32mfrom\u001b[0m \u001b[0;32mNone\u001b[0m\u001b[0;34m\u001b[0m\u001b[0;34m\u001b[0m\u001b[0m\n\u001b[0m\u001b[1;32m     68\u001b[0m     \u001b[0;32mfinally\u001b[0m\u001b[0;34m:\u001b[0m\u001b[0;34m\u001b[0m\u001b[0;34m\u001b[0m\u001b[0m\n\u001b[1;32m     69\u001b[0m       \u001b[0;32mdel\u001b[0m \u001b[0mfiltered_tb\u001b[0m\u001b[0;34m\u001b[0m\u001b[0;34m\u001b[0m\u001b[0m\n",
            "\u001b[0;32m/usr/local/lib/python3.7/dist-packages/keras/saving/save.py\u001b[0m in \u001b[0;36mload_model\u001b[0;34m(filepath, custom_objects, compile, options)\u001b[0m\n\u001b[1;32m    202\u001b[0m         \u001b[0;32mif\u001b[0m \u001b[0misinstance\u001b[0m\u001b[0;34m(\u001b[0m\u001b[0mfilepath_str\u001b[0m\u001b[0;34m,\u001b[0m \u001b[0mstr\u001b[0m\u001b[0;34m)\u001b[0m\u001b[0;34m:\u001b[0m\u001b[0;34m\u001b[0m\u001b[0;34m\u001b[0m\u001b[0m\n\u001b[1;32m    203\u001b[0m           \u001b[0;32mif\u001b[0m \u001b[0;32mnot\u001b[0m \u001b[0mtf\u001b[0m\u001b[0;34m.\u001b[0m\u001b[0mio\u001b[0m\u001b[0;34m.\u001b[0m\u001b[0mgfile\u001b[0m\u001b[0;34m.\u001b[0m\u001b[0mexists\u001b[0m\u001b[0;34m(\u001b[0m\u001b[0mfilepath_str\u001b[0m\u001b[0;34m)\u001b[0m\u001b[0;34m:\u001b[0m\u001b[0;34m\u001b[0m\u001b[0;34m\u001b[0m\u001b[0m\n\u001b[0;32m--> 204\u001b[0;31m             \u001b[0;32mraise\u001b[0m \u001b[0mIOError\u001b[0m\u001b[0;34m(\u001b[0m\u001b[0;34mf'No file or directory found at {filepath_str}'\u001b[0m\u001b[0;34m)\u001b[0m\u001b[0;34m\u001b[0m\u001b[0;34m\u001b[0m\u001b[0m\n\u001b[0m\u001b[1;32m    205\u001b[0m \u001b[0;34m\u001b[0m\u001b[0m\n\u001b[1;32m    206\u001b[0m           \u001b[0;32mif\u001b[0m \u001b[0mtf\u001b[0m\u001b[0;34m.\u001b[0m\u001b[0mio\u001b[0m\u001b[0;34m.\u001b[0m\u001b[0mgfile\u001b[0m\u001b[0;34m.\u001b[0m\u001b[0misdir\u001b[0m\u001b[0;34m(\u001b[0m\u001b[0mfilepath_str\u001b[0m\u001b[0;34m)\u001b[0m\u001b[0;34m:\u001b[0m\u001b[0;34m\u001b[0m\u001b[0;34m\u001b[0m\u001b[0m\n",
            "\u001b[0;31mOSError\u001b[0m: No file or directory found at ./모델저장/poketmon_adam.h5"
          ]
        }
      ]
    }
  ]
}